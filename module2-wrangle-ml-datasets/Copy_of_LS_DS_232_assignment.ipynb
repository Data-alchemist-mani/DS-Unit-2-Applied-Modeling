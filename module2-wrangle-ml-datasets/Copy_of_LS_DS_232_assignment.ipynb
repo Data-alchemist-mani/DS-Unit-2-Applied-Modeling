{
  "nbformat": 4,
  "nbformat_minor": 0,
  "metadata": {
    "jupytext": {
      "cell_metadata_filter": "-all",
      "main_language": "python",
      "notebook_metadata_filter": "-all"
    },
    "kernelspec": {
      "display_name": "Python 3",
      "language": "python",
      "name": "python3"
    },
    "language_info": {
      "codemirror_mode": {
        "name": "ipython",
        "version": 3
      },
      "file_extension": ".py",
      "mimetype": "text/x-python",
      "name": "python",
      "nbconvert_exporter": "python",
      "pygments_lexer": "ipython3",
      "version": "3.7.3"
    },
    "colab": {
      "name": "Copy of LS_DS_232_assignment.ipynb",
      "provenance": [],
      "include_colab_link": true
    }
  },
  "cells": [
    {
      "cell_type": "markdown",
      "metadata": {
        "id": "view-in-github",
        "colab_type": "text"
      },
      "source": [
        "<a href=\"https://colab.research.google.com/github/Data-alchemist-mani/DS-Unit-2-Applied-Modeling/blob/master/module2-wrangle-ml-datasets/Copy_of_LS_DS_232_assignment.ipynb\" target=\"_parent\"><img src=\"https://colab.research.google.com/assets/colab-badge.svg\" alt=\"Open In Colab\"/></a>"
      ]
    },
    {
      "cell_type": "markdown",
      "metadata": {
        "id": "UmSjFD_wCqlw",
        "colab_type": "text"
      },
      "source": [
        "Lambda School Data Science\n",
        "\n",
        "*Unit 2, Sprint 3, Module 1*\n",
        "\n",
        "---\n",
        "\n",
        "\n",
        "# Wrangle ML datasets\n",
        "\n",
        "- [ ] Continue to clean and explore your data. \n",
        "- [ ] For the evaluation metric you chose, what score would you get just by guessing?\n",
        "- [ ] Can you make a fast, first model that beats guessing?\n",
        "\n",
        "**We recommend that you use your portfolio project dataset for all assignments this sprint.**\n",
        "\n",
        "**But if you aren't ready yet, or you want more practice, then use the New York City property sales dataset for today's assignment.** Follow the instructions below, to just keep a subset for the Tribeca neighborhood, and remove outliers or dirty data. [Here's a video walkthrough](https://youtu.be/pPWFw8UtBVg?t=584) you can refer to if you get stuck or want hints!\n",
        "\n",
        "- Data Source: [NYC OpenData: NYC Citywide Rolling Calendar Sales](https://data.cityofnewyork.us/dataset/NYC-Citywide-Rolling-Calendar-Sales/usep-8jbt)\n",
        "- Glossary: [NYC Department of Finance: Rolling Sales Data](https://www1.nyc.gov/site/finance/taxes/property-rolling-sales-data.page)"
      ]
    },
    {
      "cell_type": "code",
      "metadata": {
        "id": "56Lu5yzMCqlz",
        "colab_type": "code",
        "colab": {}
      },
      "source": [
        "%%capture\n",
        "import sys\n",
        "\n",
        "# If you're on Colab:\n",
        "if 'google.colab' in sys.modules:\n",
        "    DATA_PATH = 'https://raw.githubusercontent.com/LambdaSchool/DS-Unit-2-Applied-Modeling/master/data/'\n",
        "    !pip install category_encoders==2.*\n",
        "    !pip install pandas-profiling==2.*\n",
        "\n",
        "# If you're working locally:\n",
        "else:\n",
        "    DATA_PATH = '../data/'"
      ],
      "execution_count": 0,
      "outputs": []
    },
    {
      "cell_type": "code",
      "metadata": {
        "id": "7kPxQdyjCql4",
        "colab_type": "code",
        "colab": {}
      },
      "source": [
        "# Read New York City property sales data\n",
        "import pandas as pd\n",
        "df = pd.read_csv(DATA_PATH+'condos/NYC_Citywide_Rolling_Calendar_Sales.csv')"
      ],
      "execution_count": 0,
      "outputs": []
    },
    {
      "cell_type": "code",
      "metadata": {
        "id": "mNYZnEI5C-Z0",
        "colab_type": "code",
        "colab": {}
      },
      "source": [
        "# file is on my computer\n",
        "from google.colab import files\n",
        "import pandas as pd\n",
        "import numpy as np\n",
        "import seaborn as sns\n",
        "import category_encoders as ce\n",
        "from sklearn.model_selection import train_test_split\n",
        "from sklearn.linear_model import LinearRegression\n",
        "from sklearn.pipeline import make_pipeline\n",
        "from sklearn.preprocessing import StandardScaler\n",
        "from sklearn.ensemble import RandomForestClassifier, RandomForestRegressor\n",
        "from sklearn.tree import DecisionTreeRegressor, DecisionTreeClassifier\n",
        "from sklearn.metrics import mean_absolute_error\n",
        "from sklearn.impute import SimpleImputer\n",
        "from sklearn.cluster import KMeans"
      ],
      "execution_count": 0,
      "outputs": []
    },
    {
      "cell_type": "code",
      "metadata": {
        "id": "5yvPG87hEJuw",
        "colab_type": "code",
        "colab": {
          "resources": {
            "http://localhost:8080/nbextensions/google.colab/files.js": {
              "data": "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",
              "ok": true,
              "headers": [
                [
                  "content-type",
                  "application/javascript"
                ]
              ],
              "status": 200,
              "status_text": ""
            }
          },
          "base_uri": "https://localhost:8080/",
          "height": 40
        },
        "outputId": "b6d5afef-c9ec-4e5f-ccbe-63a353d72a36"
      },
      "source": [
        "uploaded = files.upload()"
      ],
      "execution_count": 322,
      "outputs": [
        {
          "output_type": "display_data",
          "data": {
            "text/html": [
              "\n",
              "     <input type=\"file\" id=\"files-628c6498-81db-4ae7-8b29-419c28709867\" name=\"files[]\" multiple disabled />\n",
              "     <output id=\"result-628c6498-81db-4ae7-8b29-419c28709867\">\n",
              "      Upload widget is only available when the cell has been executed in the\n",
              "      current browser session. Please rerun this cell to enable.\n",
              "      </output>\n",
              "      <script src=\"/nbextensions/google.colab/files.js\"></script> "
            ],
            "text/plain": [
              "<IPython.core.display.HTML object>"
            ]
          },
          "metadata": {
            "tags": []
          }
        }
      ]
    },
    {
      "cell_type": "code",
      "metadata": {
        "id": "wWr8SdbrEM9m",
        "colab_type": "code",
        "colab": {
          "base_uri": "https://localhost:8080/",
          "height": 210
        },
        "outputId": "df868f15-6b57-4be2-8d87-5aa0ae5dd5e2"
      },
      "source": [
        "# getting my category encoder\n",
        "!pip install category_encoders"
      ],
      "execution_count": 323,
      "outputs": [
        {
          "output_type": "stream",
          "text": [
            "Requirement already satisfied: category_encoders in /usr/local/lib/python3.6/dist-packages (2.1.0)\n",
            "Requirement already satisfied: pandas>=0.21.1 in /usr/local/lib/python3.6/dist-packages (from category_encoders) (0.25.3)\n",
            "Requirement already satisfied: scikit-learn>=0.20.0 in /usr/local/lib/python3.6/dist-packages (from category_encoders) (0.22.1)\n",
            "Requirement already satisfied: patsy>=0.4.1 in /usr/local/lib/python3.6/dist-packages (from category_encoders) (0.5.1)\n",
            "Requirement already satisfied: statsmodels>=0.6.1 in /usr/local/lib/python3.6/dist-packages (from category_encoders) (0.10.2)\n",
            "Requirement already satisfied: scipy>=0.19.0 in /usr/local/lib/python3.6/dist-packages (from category_encoders) (1.4.1)\n",
            "Requirement already satisfied: numpy>=1.11.3 in /usr/local/lib/python3.6/dist-packages (from category_encoders) (1.17.5)\n",
            "Requirement already satisfied: python-dateutil>=2.6.1 in /usr/local/lib/python3.6/dist-packages (from pandas>=0.21.1->category_encoders) (2.6.1)\n",
            "Requirement already satisfied: pytz>=2017.2 in /usr/local/lib/python3.6/dist-packages (from pandas>=0.21.1->category_encoders) (2018.9)\n",
            "Requirement already satisfied: joblib>=0.11 in /usr/local/lib/python3.6/dist-packages (from scikit-learn>=0.20.0->category_encoders) (0.14.1)\n",
            "Requirement already satisfied: six in /usr/local/lib/python3.6/dist-packages (from patsy>=0.4.1->category_encoders) (1.12.0)\n"
          ],
          "name": "stdout"
        }
      ]
    },
    {
      "cell_type": "code",
      "metadata": {
        "id": "Lz0xJdJ8ETvm",
        "colab_type": "code",
        "colab": {}
      },
      "source": [
        "# looking at my dataframe\n",
        "#data from: https://www.kaggle.com/chenzhiliang/housing-data\n",
        "df = pd.read_csv('Housing_Data.csv')"
      ],
      "execution_count": 0,
      "outputs": []
    },
    {
      "cell_type": "code",
      "metadata": {
        "id": "ejVUPaqGEWLv",
        "colab_type": "code",
        "colab": {
          "base_uri": "https://localhost:8080/",
          "height": 34
        },
        "outputId": "d6915f1b-814c-4213-bc65-6e038867eabe"
      },
      "source": [
        "df.shape"
      ],
      "execution_count": 325,
      "outputs": [
        {
          "output_type": "execute_result",
          "data": {
            "text/plain": [
              "(24564, 11)"
            ]
          },
          "metadata": {
            "tags": []
          },
          "execution_count": 325
        }
      ]
    },
    {
      "cell_type": "code",
      "metadata": {
        "id": "XRk-lpSFEYfK",
        "colab_type": "code",
        "colab": {
          "base_uri": "https://localhost:8080/",
          "height": 203
        },
        "outputId": "fd0292be-0110-4a37-f996-14afb30d2717"
      },
      "source": [
        "df.head()"
      ],
      "execution_count": 326,
      "outputs": [
        {
          "output_type": "execute_result",
          "data": {
            "text/html": [
              "<div>\n",
              "<style scoped>\n",
              "    .dataframe tbody tr th:only-of-type {\n",
              "        vertical-align: middle;\n",
              "    }\n",
              "\n",
              "    .dataframe tbody tr th {\n",
              "        vertical-align: top;\n",
              "    }\n",
              "\n",
              "    .dataframe thead th {\n",
              "        text-align: right;\n",
              "    }\n",
              "</style>\n",
              "<table border=\"1\" class=\"dataframe\">\n",
              "  <thead>\n",
              "    <tr style=\"text-align: right;\">\n",
              "      <th></th>\n",
              "      <th>Unnamed: 0</th>\n",
              "      <th>districtText</th>\n",
              "      <th>furnishingCode</th>\n",
              "      <th>value</th>\n",
              "      <th>floorArea</th>\n",
              "      <th>bedrooms</th>\n",
              "      <th>bathrooms</th>\n",
              "      <th>pricePerSqFt</th>\n",
              "      <th>hasFloorplans</th>\n",
              "      <th>latitude</th>\n",
              "      <th>longitude</th>\n",
              "    </tr>\n",
              "  </thead>\n",
              "  <tbody>\n",
              "    <tr>\n",
              "      <th>0</th>\n",
              "      <td>0</td>\n",
              "      <td>Hougang  /  Punggol  /  Sengkang</td>\n",
              "      <td>FULL</td>\n",
              "      <td>458000</td>\n",
              "      <td>990</td>\n",
              "      <td>3</td>\n",
              "      <td>2</td>\n",
              "      <td>462.6262626</td>\n",
              "      <td>True</td>\n",
              "      <td>1.402608</td>\n",
              "      <td>103.911427</td>\n",
              "    </tr>\n",
              "    <tr>\n",
              "      <th>1</th>\n",
              "      <td>1</td>\n",
              "      <td>Buona  Vista  /  West  Coast  /  Clementi  Ne...</td>\n",
              "      <td>FULL</td>\n",
              "      <td>775000</td>\n",
              "      <td>1022</td>\n",
              "      <td>3</td>\n",
              "      <td>2</td>\n",
              "      <td>758.3170254</td>\n",
              "      <td>False</td>\n",
              "      <td>1.306192</td>\n",
              "      <td>103.782499</td>\n",
              "    </tr>\n",
              "    <tr>\n",
              "      <th>2</th>\n",
              "      <td>2</td>\n",
              "      <td>Ang  Mo  Kio  /  Bishan  /  Thomson</td>\n",
              "      <td>UNFUR</td>\n",
              "      <td>875000</td>\n",
              "      <td>1259</td>\n",
              "      <td>3</td>\n",
              "      <td>2</td>\n",
              "      <td>694.9960286</td>\n",
              "      <td>True</td>\n",
              "      <td>1.371803482</td>\n",
              "      <td>103.8535492</td>\n",
              "    </tr>\n",
              "    <tr>\n",
              "      <th>3</th>\n",
              "      <td>3</td>\n",
              "      <td>Admiralty  /  Woodlands</td>\n",
              "      <td>UNKNOWN</td>\n",
              "      <td>280000</td>\n",
              "      <td>699</td>\n",
              "      <td>3</td>\n",
              "      <td>2</td>\n",
              "      <td>400.5722461</td>\n",
              "      <td>False</td>\n",
              "      <td>1.442670315</td>\n",
              "      <td>103.7778019</td>\n",
              "    </tr>\n",
              "    <tr>\n",
              "      <th>4</th>\n",
              "      <td>4</td>\n",
              "      <td>Hougang  /  Punggol  /  Sengkang</td>\n",
              "      <td>PART</td>\n",
              "      <td>410000</td>\n",
              "      <td>1184</td>\n",
              "      <td>3</td>\n",
              "      <td>2</td>\n",
              "      <td>346.2837838</td>\n",
              "      <td>True</td>\n",
              "      <td>1.393140738</td>\n",
              "      <td>103.8883531</td>\n",
              "    </tr>\n",
              "  </tbody>\n",
              "</table>\n",
              "</div>"
            ],
            "text/plain": [
              "   Unnamed: 0  ...    longitude\n",
              "0           0  ...   103.911427\n",
              "1           1  ...   103.782499\n",
              "2           2  ...  103.8535492\n",
              "3           3  ...  103.7778019\n",
              "4           4  ...  103.8883531\n",
              "\n",
              "[5 rows x 11 columns]"
            ]
          },
          "metadata": {
            "tags": []
          },
          "execution_count": 326
        }
      ]
    },
    {
      "cell_type": "code",
      "metadata": {
        "id": "643zZUEJ0ITf",
        "colab_type": "code",
        "colab": {}
      },
      "source": [
        "df['full'] = df['furnishingCode'] == 'FULL'"
      ],
      "execution_count": 0,
      "outputs": []
    },
    {
      "cell_type": "code",
      "metadata": {
        "id": "ivv57nRj0m7w",
        "colab_type": "code",
        "colab": {}
      },
      "source": [
        "df['full'] = df['full'].astype(int)"
      ],
      "execution_count": 0,
      "outputs": []
    },
    {
      "cell_type": "code",
      "metadata": {
        "id": "SP2QdGRD1KG8",
        "colab_type": "code",
        "colab": {}
      },
      "source": [
        "df['hasFloorplans'] = df['hasFloorplans'].astype(int)"
      ],
      "execution_count": 0,
      "outputs": []
    },
    {
      "cell_type": "code",
      "metadata": {
        "id": "K0icA29K2EeF",
        "colab_type": "code",
        "colab": {}
      },
      "source": [
        "df['latitude'] = df['latitude'].replace({' Partially  Furnished ': np.nan, ' Fully  Furnished ': np.nan, 'Unfurnished': np.nan, 'UNKNOWN': np.nan})"
      ],
      "execution_count": 0,
      "outputs": []
    },
    {
      "cell_type": "code",
      "metadata": {
        "id": "Qid2M73I1WUO",
        "colab_type": "code",
        "colab": {}
      },
      "source": [
        "df['latitude'] = df['latitude'].astype(float)"
      ],
      "execution_count": 0,
      "outputs": []
    },
    {
      "cell_type": "code",
      "metadata": {
        "id": "mXrbcLOU3YB1",
        "colab_type": "code",
        "colab": {}
      },
      "source": [
        "df['longitude'] = df['longitude'].replace({' Partially  Furnished ': np.nan, ' Fully  Furnished ': np.nan, 'Unfurnished': np.nan, 'UNKNOWN': np.nan})"
      ],
      "execution_count": 0,
      "outputs": []
    },
    {
      "cell_type": "code",
      "metadata": {
        "id": "GeLkqXKF3bN6",
        "colab_type": "code",
        "colab": {}
      },
      "source": [
        "df['longitude'] = df['longitude'].astype(float)"
      ],
      "execution_count": 0,
      "outputs": []
    },
    {
      "cell_type": "code",
      "metadata": {
        "id": "KKyS-W4Y4Cbj",
        "colab_type": "code",
        "colab": {}
      },
      "source": [
        "df['floorArea'] = df['floorArea'].replace({'sqft': np.nan })"
      ],
      "execution_count": 0,
      "outputs": []
    },
    {
      "cell_type": "code",
      "metadata": {
        "id": "us3MQ3EH3uP4",
        "colab_type": "code",
        "colab": {
          "base_uri": "https://localhost:8080/",
          "height": 228
        },
        "outputId": "be0dc04d-69cc-476e-e170-2d258a1c42b5"
      },
      "source": [
        "df['floorArea'].astype(float)"
      ],
      "execution_count": 335,
      "outputs": [
        {
          "output_type": "execute_result",
          "data": {
            "text/plain": [
              "0        990.000\n",
              "1       1022.000\n",
              "2       1259.000\n",
              "3        699.000\n",
              "4       1184.000\n",
              "          ...   \n",
              "24559   1119.000\n",
              "24560   1593.000\n",
              "24561   1388.000\n",
              "24562    990.000\n",
              "24563    990.000\n",
              "Name: floorArea, Length: 24564, dtype: float64"
            ]
          },
          "metadata": {
            "tags": []
          },
          "execution_count": 335
        }
      ]
    },
    {
      "cell_type": "code",
      "metadata": {
        "id": "lLIg2QVT1kgM",
        "colab_type": "code",
        "colab": {
          "base_uri": "https://localhost:8080/",
          "height": 246
        },
        "outputId": "ae4cf866-b94d-4a0a-ca19-1874a37bc580"
      },
      "source": [
        "df.dtypes"
      ],
      "execution_count": 336,
      "outputs": [
        {
          "output_type": "execute_result",
          "data": {
            "text/plain": [
              "Unnamed: 0          int64\n",
              "districtText       object\n",
              "furnishingCode     object\n",
              "value               int64\n",
              "floorArea          object\n",
              "bedrooms            int64\n",
              "bathrooms          object\n",
              "pricePerSqFt       object\n",
              "hasFloorplans       int64\n",
              "latitude          float64\n",
              "longitude         float64\n",
              "full                int64\n",
              "dtype: object"
            ]
          },
          "metadata": {
            "tags": []
          },
          "execution_count": 336
        }
      ]
    },
    {
      "cell_type": "code",
      "metadata": {
        "id": "4yMldZxY0y2p",
        "colab_type": "code",
        "colab": {
          "base_uri": "https://localhost:8080/",
          "height": 203
        },
        "outputId": "10c68ca2-828d-46ce-d6dd-97ecfed6f434"
      },
      "source": [
        "df.head()"
      ],
      "execution_count": 337,
      "outputs": [
        {
          "output_type": "execute_result",
          "data": {
            "text/html": [
              "<div>\n",
              "<style scoped>\n",
              "    .dataframe tbody tr th:only-of-type {\n",
              "        vertical-align: middle;\n",
              "    }\n",
              "\n",
              "    .dataframe tbody tr th {\n",
              "        vertical-align: top;\n",
              "    }\n",
              "\n",
              "    .dataframe thead th {\n",
              "        text-align: right;\n",
              "    }\n",
              "</style>\n",
              "<table border=\"1\" class=\"dataframe\">\n",
              "  <thead>\n",
              "    <tr style=\"text-align: right;\">\n",
              "      <th></th>\n",
              "      <th>Unnamed: 0</th>\n",
              "      <th>districtText</th>\n",
              "      <th>furnishingCode</th>\n",
              "      <th>value</th>\n",
              "      <th>floorArea</th>\n",
              "      <th>bedrooms</th>\n",
              "      <th>bathrooms</th>\n",
              "      <th>pricePerSqFt</th>\n",
              "      <th>hasFloorplans</th>\n",
              "      <th>latitude</th>\n",
              "      <th>longitude</th>\n",
              "      <th>full</th>\n",
              "    </tr>\n",
              "  </thead>\n",
              "  <tbody>\n",
              "    <tr>\n",
              "      <th>0</th>\n",
              "      <td>0</td>\n",
              "      <td>Hougang  /  Punggol  /  Sengkang</td>\n",
              "      <td>FULL</td>\n",
              "      <td>458000</td>\n",
              "      <td>990</td>\n",
              "      <td>3</td>\n",
              "      <td>2</td>\n",
              "      <td>462.6262626</td>\n",
              "      <td>1</td>\n",
              "      <td>1.403</td>\n",
              "      <td>103.911</td>\n",
              "      <td>1</td>\n",
              "    </tr>\n",
              "    <tr>\n",
              "      <th>1</th>\n",
              "      <td>1</td>\n",
              "      <td>Buona  Vista  /  West  Coast  /  Clementi  Ne...</td>\n",
              "      <td>FULL</td>\n",
              "      <td>775000</td>\n",
              "      <td>1022</td>\n",
              "      <td>3</td>\n",
              "      <td>2</td>\n",
              "      <td>758.3170254</td>\n",
              "      <td>0</td>\n",
              "      <td>1.306</td>\n",
              "      <td>103.782</td>\n",
              "      <td>1</td>\n",
              "    </tr>\n",
              "    <tr>\n",
              "      <th>2</th>\n",
              "      <td>2</td>\n",
              "      <td>Ang  Mo  Kio  /  Bishan  /  Thomson</td>\n",
              "      <td>UNFUR</td>\n",
              "      <td>875000</td>\n",
              "      <td>1259</td>\n",
              "      <td>3</td>\n",
              "      <td>2</td>\n",
              "      <td>694.9960286</td>\n",
              "      <td>1</td>\n",
              "      <td>1.372</td>\n",
              "      <td>103.854</td>\n",
              "      <td>0</td>\n",
              "    </tr>\n",
              "    <tr>\n",
              "      <th>3</th>\n",
              "      <td>3</td>\n",
              "      <td>Admiralty  /  Woodlands</td>\n",
              "      <td>UNKNOWN</td>\n",
              "      <td>280000</td>\n",
              "      <td>699</td>\n",
              "      <td>3</td>\n",
              "      <td>2</td>\n",
              "      <td>400.5722461</td>\n",
              "      <td>0</td>\n",
              "      <td>1.443</td>\n",
              "      <td>103.778</td>\n",
              "      <td>0</td>\n",
              "    </tr>\n",
              "    <tr>\n",
              "      <th>4</th>\n",
              "      <td>4</td>\n",
              "      <td>Hougang  /  Punggol  /  Sengkang</td>\n",
              "      <td>PART</td>\n",
              "      <td>410000</td>\n",
              "      <td>1184</td>\n",
              "      <td>3</td>\n",
              "      <td>2</td>\n",
              "      <td>346.2837838</td>\n",
              "      <td>1</td>\n",
              "      <td>1.393</td>\n",
              "      <td>103.888</td>\n",
              "      <td>0</td>\n",
              "    </tr>\n",
              "  </tbody>\n",
              "</table>\n",
              "</div>"
            ],
            "text/plain": [
              "   Unnamed: 0  ... full\n",
              "0           0  ...    1\n",
              "1           1  ...    1\n",
              "2           2  ...    0\n",
              "3           3  ...    0\n",
              "4           4  ...    0\n",
              "\n",
              "[5 rows x 12 columns]"
            ]
          },
          "metadata": {
            "tags": []
          },
          "execution_count": 337
        }
      ]
    },
    {
      "cell_type": "code",
      "metadata": {
        "id": "buI-_XVox-B1",
        "colab_type": "code",
        "colab": {}
      },
      "source": [
        "df['bathrooms'].replace({'UNKNOWN': np.NaN}, inplace=True)\n",
        "df['pricePerSqFt'].replace({'sqrt' : ''}, inplace=True)\n",
        "df['districtText'].replace({'/':' '}, inplace=True)\n"
      ],
      "execution_count": 0,
      "outputs": []
    },
    {
      "cell_type": "code",
      "metadata": {
        "id": "vpV65FOZE5k5",
        "colab_type": "code",
        "colab": {}
      },
      "source": [
        "pd.set_option('display.float_format', lambda x: '%.3f' % x)"
      ],
      "execution_count": 0,
      "outputs": []
    },
    {
      "cell_type": "code",
      "metadata": {
        "id": "2jAw-NK-EYeF",
        "colab_type": "code",
        "colab": {
          "base_uri": "https://localhost:8080/",
          "height": 175
        },
        "outputId": "29363863-087a-4b3b-df4e-1f2654abbf94"
      },
      "source": [
        "df['value'].describe()"
      ],
      "execution_count": 340,
      "outputs": [
        {
          "output_type": "execute_result",
          "data": {
            "text/plain": [
              "count     24564.000\n",
              "mean     481441.236\n",
              "std      156289.207\n",
              "min      210000.000\n",
              "25%      375000.000\n",
              "50%      445000.000\n",
              "75%      550000.000\n",
              "max     2150000.000\n",
              "Name: value, dtype: float64"
            ]
          },
          "metadata": {
            "tags": []
          },
          "execution_count": 340
        }
      ]
    },
    {
      "cell_type": "code",
      "metadata": {
        "id": "hblrZKsZIxZQ",
        "colab_type": "code",
        "colab": {}
      },
      "source": [
        "df['MB'] = df['value'].mean()"
      ],
      "execution_count": 0,
      "outputs": []
    },
    {
      "cell_type": "code",
      "metadata": {
        "id": "A1MOISyCtpfi",
        "colab_type": "code",
        "colab": {
          "base_uri": "https://localhost:8080/",
          "height": 228
        },
        "outputId": "346aedc9-c2b9-4c39-ff77-b39310681495"
      },
      "source": [
        "df['MB']"
      ],
      "execution_count": 342,
      "outputs": [
        {
          "output_type": "execute_result",
          "data": {
            "text/plain": [
              "0       481441.236\n",
              "1       481441.236\n",
              "2       481441.236\n",
              "3       481441.236\n",
              "4       481441.236\n",
              "           ...    \n",
              "24559   481441.236\n",
              "24560   481441.236\n",
              "24561   481441.236\n",
              "24562   481441.236\n",
              "24563   481441.236\n",
              "Name: MB, Length: 24564, dtype: float64"
            ]
          },
          "metadata": {
            "tags": []
          },
          "execution_count": 342
        }
      ]
    },
    {
      "cell_type": "code",
      "metadata": {
        "id": "uKYZWH96twDG",
        "colab_type": "code",
        "colab": {
          "base_uri": "https://localhost:8080/",
          "height": 34
        },
        "outputId": "b480ba2f-e25b-4c2b-b980-f18c924aa7c2"
      },
      "source": [
        "# mmean base line error\n",
        "mean_absolute_error(df['MB'], df['value'])"
      ],
      "execution_count": 343,
      "outputs": [
        {
          "output_type": "execute_result",
          "data": {
            "text/plain": [
              "118831.98560338319"
            ]
          },
          "metadata": {
            "tags": []
          },
          "execution_count": 343
        }
      ]
    },
    {
      "cell_type": "code",
      "metadata": {
        "id": "TLNOYp8PFHcU",
        "colab_type": "code",
        "colab": {
          "base_uri": "https://localhost:8080/",
          "height": 34
        },
        "outputId": "20ef2776-2a63-45a4-ce6b-729c6d9a06c5"
      },
      "source": [
        "#clean this column\n",
        "df['districtText'].nunique()"
      ],
      "execution_count": 344,
      "outputs": [
        {
          "output_type": "execute_result",
          "data": {
            "text/plain": [
              "45"
            ]
          },
          "metadata": {
            "tags": []
          },
          "execution_count": 344
        }
      ]
    },
    {
      "cell_type": "code",
      "metadata": {
        "id": "XlErGzxtFKNN",
        "colab_type": "code",
        "colab": {
          "base_uri": "https://localhost:8080/",
          "height": 34
        },
        "outputId": "ab09eeb1-37b2-4486-9203-4f106fcf3adf"
      },
      "source": [
        "#catergorical encoder\n",
        "df['furnishingCode'].unique()"
      ],
      "execution_count": 345,
      "outputs": [
        {
          "output_type": "execute_result",
          "data": {
            "text/plain": [
              "array(['FULL', 'UNFUR', 'UNKNOWN', 'PART'], dtype=object)"
            ]
          },
          "metadata": {
            "tags": []
          },
          "execution_count": 345
        }
      ]
    },
    {
      "cell_type": "code",
      "metadata": {
        "id": "1BdKEWRAFO7_",
        "colab_type": "code",
        "colab": {
          "base_uri": "https://localhost:8080/",
          "height": 263
        },
        "outputId": "ae8dc3d1-3254-4bb8-9df7-1de61197a9cd"
      },
      "source": [
        "# checking missing values\n",
        "df.isnull().count()"
      ],
      "execution_count": 346,
      "outputs": [
        {
          "output_type": "execute_result",
          "data": {
            "text/plain": [
              "Unnamed: 0        24564\n",
              "districtText      24564\n",
              "furnishingCode    24564\n",
              "value             24564\n",
              "floorArea         24564\n",
              "bedrooms          24564\n",
              "bathrooms         24564\n",
              "pricePerSqFt      24564\n",
              "hasFloorplans     24564\n",
              "latitude          24564\n",
              "longitude         24564\n",
              "full              24564\n",
              "MB                24564\n",
              "dtype: int64"
            ]
          },
          "metadata": {
            "tags": []
          },
          "execution_count": 346
        }
      ]
    },
    {
      "cell_type": "code",
      "metadata": {
        "id": "pV-25H6MFSMN",
        "colab_type": "code",
        "colab": {
          "base_uri": "https://localhost:8080/",
          "height": 1000
        },
        "outputId": "31a0e81a-3e68-4d59-c10c-7a6cd4e812fa"
      },
      "source": [
        "value_checher(df)"
      ],
      "execution_count": 347,
      "outputs": [
        {
          "output_type": "stream",
          "text": [
            "\n",
            " 0         990\n",
            "1        1022\n",
            "2        1259\n",
            "3         699\n",
            "4        1184\n",
            "         ... \n",
            "24559    1119\n",
            "24560    1593\n",
            "24561    1388\n",
            "24562     990\n",
            "24563     990\n",
            "Name: floorArea, Length: 24564, dtype: object \n",
            " is missing this False    24563\n",
            "True         1\n",
            "Name: floorArea, dtype: int64 \n",
            "\n",
            "\n",
            " 0        3\n",
            "1        3\n",
            "2        3\n",
            "3        3\n",
            "4        3\n",
            "        ..\n",
            "24559    3\n",
            "24560    4\n",
            "24561    3\n",
            "24562    3\n",
            "24563    3\n",
            "Name: bedrooms, Length: 24564, dtype: int64 \n",
            " is missing this False    24564\n",
            "Name: bedrooms, dtype: int64 \n",
            "\n",
            "\n",
            " 0          2\n",
            "1          2\n",
            "2          2\n",
            "3          2\n",
            "4          2\n",
            "        ... \n",
            "24559    NaN\n",
            "24560    NaN\n",
            "24561    NaN\n",
            "24562      2\n",
            "24563      2\n",
            "Name: bathrooms, Length: 24564, dtype: object \n",
            " is missing this False    23870\n",
            "True       694\n",
            "Name: bathrooms, dtype: int64 \n",
            "\n",
            "\n",
            " 0        462.6262626\n",
            "1        758.3170254\n",
            "2        694.9960286\n",
            "3        400.5722461\n",
            "4        346.2837838\n",
            "            ...     \n",
            "24559    446.8275246\n",
            "24560    351.5379787\n",
            "24561     288.184438\n",
            "24562    535.3535354\n",
            "24563    353.5353535\n",
            "Name: pricePerSqFt, Length: 24564, dtype: object \n",
            " is missing this False    24564\n",
            "Name: pricePerSqFt, dtype: int64 \n",
            "\n",
            "\n",
            " 0        1\n",
            "1        0\n",
            "2        1\n",
            "3        0\n",
            "4        1\n",
            "        ..\n",
            "24559    0\n",
            "24560    0\n",
            "24561    0\n",
            "24562    0\n",
            "24563    0\n",
            "Name: hasFloorplans, Length: 24564, dtype: int64 \n",
            " is missing this False    24564\n",
            "Name: hasFloorplans, dtype: int64 \n",
            "\n",
            "\n",
            " 0       1.403\n",
            "1       1.306\n",
            "2       1.372\n",
            "3       1.443\n",
            "4       1.393\n",
            "         ... \n",
            "24559   1.383\n",
            "24560   1.393\n",
            "24561   1.393\n",
            "24562   1.385\n",
            "24563   1.434\n",
            "Name: latitude, Length: 24564, dtype: float64 \n",
            " is missing this False    24117\n",
            "True       447\n",
            "Name: latitude, dtype: int64 \n",
            "\n",
            "\n",
            " 0       103.911\n",
            "1       103.782\n",
            "2       103.854\n",
            "3       103.778\n",
            "4       103.888\n",
            "          ...  \n",
            "24559   103.744\n",
            "24560   103.741\n",
            "24561   103.744\n",
            "24562   103.894\n",
            "24563   103.795\n",
            "Name: longitude, Length: 24564, dtype: float64 \n",
            " is missing this False    24478\n",
            "True        86\n",
            "Name: longitude, dtype: int64 \n",
            "\n"
          ],
          "name": "stdout"
        },
        {
          "output_type": "execute_result",
          "data": {
            "text/html": [
              "<div>\n",
              "<style scoped>\n",
              "    .dataframe tbody tr th:only-of-type {\n",
              "        vertical-align: middle;\n",
              "    }\n",
              "\n",
              "    .dataframe tbody tr th {\n",
              "        vertical-align: top;\n",
              "    }\n",
              "\n",
              "    .dataframe thead th {\n",
              "        text-align: right;\n",
              "    }\n",
              "</style>\n",
              "<table border=\"1\" class=\"dataframe\">\n",
              "  <thead>\n",
              "    <tr style=\"text-align: right;\">\n",
              "      <th></th>\n",
              "      <th>Unnamed: 0</th>\n",
              "      <th>districtText</th>\n",
              "      <th>furnishingCode</th>\n",
              "      <th>value</th>\n",
              "      <th>floorArea</th>\n",
              "      <th>bedrooms</th>\n",
              "      <th>bathrooms</th>\n",
              "      <th>pricePerSqFt</th>\n",
              "      <th>hasFloorplans</th>\n",
              "      <th>latitude</th>\n",
              "      <th>longitude</th>\n",
              "      <th>full</th>\n",
              "      <th>MB</th>\n",
              "    </tr>\n",
              "  </thead>\n",
              "  <tbody>\n",
              "    <tr>\n",
              "      <th>0</th>\n",
              "      <td>0</td>\n",
              "      <td>Hougang  /  Punggol  /  Sengkang</td>\n",
              "      <td>FULL</td>\n",
              "      <td>458000</td>\n",
              "      <td>990</td>\n",
              "      <td>3</td>\n",
              "      <td>2</td>\n",
              "      <td>462.6262626</td>\n",
              "      <td>1</td>\n",
              "      <td>1.403</td>\n",
              "      <td>103.911</td>\n",
              "      <td>1</td>\n",
              "      <td>481441.236</td>\n",
              "    </tr>\n",
              "    <tr>\n",
              "      <th>1</th>\n",
              "      <td>1</td>\n",
              "      <td>Buona  Vista  /  West  Coast  /  Clementi  Ne...</td>\n",
              "      <td>FULL</td>\n",
              "      <td>775000</td>\n",
              "      <td>1022</td>\n",
              "      <td>3</td>\n",
              "      <td>2</td>\n",
              "      <td>758.3170254</td>\n",
              "      <td>0</td>\n",
              "      <td>1.306</td>\n",
              "      <td>103.782</td>\n",
              "      <td>1</td>\n",
              "      <td>481441.236</td>\n",
              "    </tr>\n",
              "    <tr>\n",
              "      <th>2</th>\n",
              "      <td>2</td>\n",
              "      <td>Ang  Mo  Kio  /  Bishan  /  Thomson</td>\n",
              "      <td>UNFUR</td>\n",
              "      <td>875000</td>\n",
              "      <td>1259</td>\n",
              "      <td>3</td>\n",
              "      <td>2</td>\n",
              "      <td>694.9960286</td>\n",
              "      <td>1</td>\n",
              "      <td>1.372</td>\n",
              "      <td>103.854</td>\n",
              "      <td>0</td>\n",
              "      <td>481441.236</td>\n",
              "    </tr>\n",
              "    <tr>\n",
              "      <th>3</th>\n",
              "      <td>3</td>\n",
              "      <td>Admiralty  /  Woodlands</td>\n",
              "      <td>UNKNOWN</td>\n",
              "      <td>280000</td>\n",
              "      <td>699</td>\n",
              "      <td>3</td>\n",
              "      <td>2</td>\n",
              "      <td>400.5722461</td>\n",
              "      <td>0</td>\n",
              "      <td>1.443</td>\n",
              "      <td>103.778</td>\n",
              "      <td>0</td>\n",
              "      <td>481441.236</td>\n",
              "    </tr>\n",
              "    <tr>\n",
              "      <th>4</th>\n",
              "      <td>4</td>\n",
              "      <td>Hougang  /  Punggol  /  Sengkang</td>\n",
              "      <td>PART</td>\n",
              "      <td>410000</td>\n",
              "      <td>1184</td>\n",
              "      <td>3</td>\n",
              "      <td>2</td>\n",
              "      <td>346.2837838</td>\n",
              "      <td>1</td>\n",
              "      <td>1.393</td>\n",
              "      <td>103.888</td>\n",
              "      <td>0</td>\n",
              "      <td>481441.236</td>\n",
              "    </tr>\n",
              "    <tr>\n",
              "      <th>...</th>\n",
              "      <td>...</td>\n",
              "      <td>...</td>\n",
              "      <td>...</td>\n",
              "      <td>...</td>\n",
              "      <td>...</td>\n",
              "      <td>...</td>\n",
              "      <td>...</td>\n",
              "      <td>...</td>\n",
              "      <td>...</td>\n",
              "      <td>...</td>\n",
              "      <td>...</td>\n",
              "      <td>...</td>\n",
              "      <td>...</td>\n",
              "    </tr>\n",
              "    <tr>\n",
              "      <th>24559</th>\n",
              "      <td>25093</td>\n",
              "      <td>Dairy  Farm  /  Bukit  Panjang  /  Choa  Chu ...</td>\n",
              "      <td>UNKNOWN</td>\n",
              "      <td>500000</td>\n",
              "      <td>1119</td>\n",
              "      <td>3</td>\n",
              "      <td>NaN</td>\n",
              "      <td>446.8275246</td>\n",
              "      <td>0</td>\n",
              "      <td>1.383</td>\n",
              "      <td>103.744</td>\n",
              "      <td>0</td>\n",
              "      <td>481441.236</td>\n",
              "    </tr>\n",
              "    <tr>\n",
              "      <th>24560</th>\n",
              "      <td>25094</td>\n",
              "      <td>Dairy  Farm  /  Bukit  Panjang  /  Choa  Chu ...</td>\n",
              "      <td>UNKNOWN</td>\n",
              "      <td>560000</td>\n",
              "      <td>1593</td>\n",
              "      <td>4</td>\n",
              "      <td>NaN</td>\n",
              "      <td>351.5379787</td>\n",
              "      <td>0</td>\n",
              "      <td>1.393</td>\n",
              "      <td>103.741</td>\n",
              "      <td>0</td>\n",
              "      <td>481441.236</td>\n",
              "    </tr>\n",
              "    <tr>\n",
              "      <th>24561</th>\n",
              "      <td>25095</td>\n",
              "      <td>Dairy  Farm  /  Bukit  Panjang  /  Choa  Chu ...</td>\n",
              "      <td>UNKNOWN</td>\n",
              "      <td>400000</td>\n",
              "      <td>1388</td>\n",
              "      <td>3</td>\n",
              "      <td>NaN</td>\n",
              "      <td>288.184438</td>\n",
              "      <td>0</td>\n",
              "      <td>1.393</td>\n",
              "      <td>103.744</td>\n",
              "      <td>0</td>\n",
              "      <td>481441.236</td>\n",
              "    </tr>\n",
              "    <tr>\n",
              "      <th>24562</th>\n",
              "      <td>25096</td>\n",
              "      <td>Hougang  /  Punggol  /  Sengkang</td>\n",
              "      <td>PART</td>\n",
              "      <td>530000</td>\n",
              "      <td>990</td>\n",
              "      <td>3</td>\n",
              "      <td>2</td>\n",
              "      <td>535.3535354</td>\n",
              "      <td>0</td>\n",
              "      <td>1.385</td>\n",
              "      <td>103.894</td>\n",
              "      <td>0</td>\n",
              "      <td>481441.236</td>\n",
              "    </tr>\n",
              "    <tr>\n",
              "      <th>24563</th>\n",
              "      <td>25097</td>\n",
              "      <td>Admiralty  /  Woodlands</td>\n",
              "      <td>FULL</td>\n",
              "      <td>350000</td>\n",
              "      <td>990</td>\n",
              "      <td>3</td>\n",
              "      <td>2</td>\n",
              "      <td>353.5353535</td>\n",
              "      <td>0</td>\n",
              "      <td>1.434</td>\n",
              "      <td>103.795</td>\n",
              "      <td>1</td>\n",
              "      <td>481441.236</td>\n",
              "    </tr>\n",
              "  </tbody>\n",
              "</table>\n",
              "<p>24564 rows × 13 columns</p>\n",
              "</div>"
            ],
            "text/plain": [
              "       Unnamed: 0  ...         MB\n",
              "0               0  ... 481441.236\n",
              "1               1  ... 481441.236\n",
              "2               2  ... 481441.236\n",
              "3               3  ... 481441.236\n",
              "4               4  ... 481441.236\n",
              "...           ...  ...        ...\n",
              "24559       25093  ... 481441.236\n",
              "24560       25094  ... 481441.236\n",
              "24561       25095  ... 481441.236\n",
              "24562       25096  ... 481441.236\n",
              "24563       25097  ... 481441.236\n",
              "\n",
              "[24564 rows x 13 columns]"
            ]
          },
          "metadata": {
            "tags": []
          },
          "execution_count": 347
        }
      ]
    },
    {
      "cell_type": "code",
      "metadata": {
        "id": "tVQxPuQtFX3B",
        "colab_type": "code",
        "colab": {}
      },
      "source": [
        "# df = df.dropna()"
      ],
      "execution_count": 0,
      "outputs": []
    },
    {
      "cell_type": "code",
      "metadata": {
        "id": "SGeOGL03Fa0P",
        "colab_type": "code",
        "colab": {}
      },
      "source": [
        "train = df"
      ],
      "execution_count": 0,
      "outputs": []
    },
    {
      "cell_type": "code",
      "metadata": {
        "id": "L04FWGCUFe8y",
        "colab_type": "code",
        "colab": {}
      },
      "source": [
        "target = 'value'\n",
        "\n",
        "features = train.columns.drop([target, 'districtText', 'hasFloorplans', 'Unnamed: 0'])"
      ],
      "execution_count": 0,
      "outputs": []
    },
    {
      "cell_type": "code",
      "metadata": {
        "id": "zRLCrg0sFgqa",
        "colab_type": "code",
        "colab": {
          "base_uri": "https://localhost:8080/",
          "height": 417
        },
        "outputId": "2534988a-139b-4027-ff94-e16eb60ffe8f"
      },
      "source": [
        "train"
      ],
      "execution_count": 351,
      "outputs": [
        {
          "output_type": "execute_result",
          "data": {
            "text/html": [
              "<div>\n",
              "<style scoped>\n",
              "    .dataframe tbody tr th:only-of-type {\n",
              "        vertical-align: middle;\n",
              "    }\n",
              "\n",
              "    .dataframe tbody tr th {\n",
              "        vertical-align: top;\n",
              "    }\n",
              "\n",
              "    .dataframe thead th {\n",
              "        text-align: right;\n",
              "    }\n",
              "</style>\n",
              "<table border=\"1\" class=\"dataframe\">\n",
              "  <thead>\n",
              "    <tr style=\"text-align: right;\">\n",
              "      <th></th>\n",
              "      <th>Unnamed: 0</th>\n",
              "      <th>districtText</th>\n",
              "      <th>furnishingCode</th>\n",
              "      <th>value</th>\n",
              "      <th>floorArea</th>\n",
              "      <th>bedrooms</th>\n",
              "      <th>bathrooms</th>\n",
              "      <th>pricePerSqFt</th>\n",
              "      <th>hasFloorplans</th>\n",
              "      <th>latitude</th>\n",
              "      <th>longitude</th>\n",
              "      <th>full</th>\n",
              "      <th>MB</th>\n",
              "    </tr>\n",
              "  </thead>\n",
              "  <tbody>\n",
              "    <tr>\n",
              "      <th>0</th>\n",
              "      <td>0</td>\n",
              "      <td>Hougang  /  Punggol  /  Sengkang</td>\n",
              "      <td>FULL</td>\n",
              "      <td>458000</td>\n",
              "      <td>990</td>\n",
              "      <td>3</td>\n",
              "      <td>2</td>\n",
              "      <td>462.6262626</td>\n",
              "      <td>1</td>\n",
              "      <td>1.403</td>\n",
              "      <td>103.911</td>\n",
              "      <td>1</td>\n",
              "      <td>481441.236</td>\n",
              "    </tr>\n",
              "    <tr>\n",
              "      <th>1</th>\n",
              "      <td>1</td>\n",
              "      <td>Buona  Vista  /  West  Coast  /  Clementi  Ne...</td>\n",
              "      <td>FULL</td>\n",
              "      <td>775000</td>\n",
              "      <td>1022</td>\n",
              "      <td>3</td>\n",
              "      <td>2</td>\n",
              "      <td>758.3170254</td>\n",
              "      <td>0</td>\n",
              "      <td>1.306</td>\n",
              "      <td>103.782</td>\n",
              "      <td>1</td>\n",
              "      <td>481441.236</td>\n",
              "    </tr>\n",
              "    <tr>\n",
              "      <th>2</th>\n",
              "      <td>2</td>\n",
              "      <td>Ang  Mo  Kio  /  Bishan  /  Thomson</td>\n",
              "      <td>UNFUR</td>\n",
              "      <td>875000</td>\n",
              "      <td>1259</td>\n",
              "      <td>3</td>\n",
              "      <td>2</td>\n",
              "      <td>694.9960286</td>\n",
              "      <td>1</td>\n",
              "      <td>1.372</td>\n",
              "      <td>103.854</td>\n",
              "      <td>0</td>\n",
              "      <td>481441.236</td>\n",
              "    </tr>\n",
              "    <tr>\n",
              "      <th>3</th>\n",
              "      <td>3</td>\n",
              "      <td>Admiralty  /  Woodlands</td>\n",
              "      <td>UNKNOWN</td>\n",
              "      <td>280000</td>\n",
              "      <td>699</td>\n",
              "      <td>3</td>\n",
              "      <td>2</td>\n",
              "      <td>400.5722461</td>\n",
              "      <td>0</td>\n",
              "      <td>1.443</td>\n",
              "      <td>103.778</td>\n",
              "      <td>0</td>\n",
              "      <td>481441.236</td>\n",
              "    </tr>\n",
              "    <tr>\n",
              "      <th>4</th>\n",
              "      <td>4</td>\n",
              "      <td>Hougang  /  Punggol  /  Sengkang</td>\n",
              "      <td>PART</td>\n",
              "      <td>410000</td>\n",
              "      <td>1184</td>\n",
              "      <td>3</td>\n",
              "      <td>2</td>\n",
              "      <td>346.2837838</td>\n",
              "      <td>1</td>\n",
              "      <td>1.393</td>\n",
              "      <td>103.888</td>\n",
              "      <td>0</td>\n",
              "      <td>481441.236</td>\n",
              "    </tr>\n",
              "    <tr>\n",
              "      <th>...</th>\n",
              "      <td>...</td>\n",
              "      <td>...</td>\n",
              "      <td>...</td>\n",
              "      <td>...</td>\n",
              "      <td>...</td>\n",
              "      <td>...</td>\n",
              "      <td>...</td>\n",
              "      <td>...</td>\n",
              "      <td>...</td>\n",
              "      <td>...</td>\n",
              "      <td>...</td>\n",
              "      <td>...</td>\n",
              "      <td>...</td>\n",
              "    </tr>\n",
              "    <tr>\n",
              "      <th>24559</th>\n",
              "      <td>25093</td>\n",
              "      <td>Dairy  Farm  /  Bukit  Panjang  /  Choa  Chu ...</td>\n",
              "      <td>UNKNOWN</td>\n",
              "      <td>500000</td>\n",
              "      <td>1119</td>\n",
              "      <td>3</td>\n",
              "      <td>NaN</td>\n",
              "      <td>446.8275246</td>\n",
              "      <td>0</td>\n",
              "      <td>1.383</td>\n",
              "      <td>103.744</td>\n",
              "      <td>0</td>\n",
              "      <td>481441.236</td>\n",
              "    </tr>\n",
              "    <tr>\n",
              "      <th>24560</th>\n",
              "      <td>25094</td>\n",
              "      <td>Dairy  Farm  /  Bukit  Panjang  /  Choa  Chu ...</td>\n",
              "      <td>UNKNOWN</td>\n",
              "      <td>560000</td>\n",
              "      <td>1593</td>\n",
              "      <td>4</td>\n",
              "      <td>NaN</td>\n",
              "      <td>351.5379787</td>\n",
              "      <td>0</td>\n",
              "      <td>1.393</td>\n",
              "      <td>103.741</td>\n",
              "      <td>0</td>\n",
              "      <td>481441.236</td>\n",
              "    </tr>\n",
              "    <tr>\n",
              "      <th>24561</th>\n",
              "      <td>25095</td>\n",
              "      <td>Dairy  Farm  /  Bukit  Panjang  /  Choa  Chu ...</td>\n",
              "      <td>UNKNOWN</td>\n",
              "      <td>400000</td>\n",
              "      <td>1388</td>\n",
              "      <td>3</td>\n",
              "      <td>NaN</td>\n",
              "      <td>288.184438</td>\n",
              "      <td>0</td>\n",
              "      <td>1.393</td>\n",
              "      <td>103.744</td>\n",
              "      <td>0</td>\n",
              "      <td>481441.236</td>\n",
              "    </tr>\n",
              "    <tr>\n",
              "      <th>24562</th>\n",
              "      <td>25096</td>\n",
              "      <td>Hougang  /  Punggol  /  Sengkang</td>\n",
              "      <td>PART</td>\n",
              "      <td>530000</td>\n",
              "      <td>990</td>\n",
              "      <td>3</td>\n",
              "      <td>2</td>\n",
              "      <td>535.3535354</td>\n",
              "      <td>0</td>\n",
              "      <td>1.385</td>\n",
              "      <td>103.894</td>\n",
              "      <td>0</td>\n",
              "      <td>481441.236</td>\n",
              "    </tr>\n",
              "    <tr>\n",
              "      <th>24563</th>\n",
              "      <td>25097</td>\n",
              "      <td>Admiralty  /  Woodlands</td>\n",
              "      <td>FULL</td>\n",
              "      <td>350000</td>\n",
              "      <td>990</td>\n",
              "      <td>3</td>\n",
              "      <td>2</td>\n",
              "      <td>353.5353535</td>\n",
              "      <td>0</td>\n",
              "      <td>1.434</td>\n",
              "      <td>103.795</td>\n",
              "      <td>1</td>\n",
              "      <td>481441.236</td>\n",
              "    </tr>\n",
              "  </tbody>\n",
              "</table>\n",
              "<p>24564 rows × 13 columns</p>\n",
              "</div>"
            ],
            "text/plain": [
              "       Unnamed: 0  ...         MB\n",
              "0               0  ... 481441.236\n",
              "1               1  ... 481441.236\n",
              "2               2  ... 481441.236\n",
              "3               3  ... 481441.236\n",
              "4               4  ... 481441.236\n",
              "...           ...  ...        ...\n",
              "24559       25093  ... 481441.236\n",
              "24560       25094  ... 481441.236\n",
              "24561       25095  ... 481441.236\n",
              "24562       25096  ... 481441.236\n",
              "24563       25097  ... 481441.236\n",
              "\n",
              "[24564 rows x 13 columns]"
            ]
          },
          "metadata": {
            "tags": []
          },
          "execution_count": 351
        }
      ]
    },
    {
      "cell_type": "code",
      "metadata": {
        "id": "VRy6wpB-LR-I",
        "colab_type": "code",
        "colab": {
          "base_uri": "https://localhost:8080/",
          "height": 228
        },
        "outputId": "682738c4-b948-4f95-8d2d-14125c51ff6b"
      },
      "source": [
        "df['bathrooms']"
      ],
      "execution_count": 352,
      "outputs": [
        {
          "output_type": "execute_result",
          "data": {
            "text/plain": [
              "0          2\n",
              "1          2\n",
              "2          2\n",
              "3          2\n",
              "4          2\n",
              "        ... \n",
              "24559    NaN\n",
              "24560    NaN\n",
              "24561    NaN\n",
              "24562      2\n",
              "24563      2\n",
              "Name: bathrooms, Length: 24564, dtype: object"
            ]
          },
          "metadata": {
            "tags": []
          },
          "execution_count": 352
        }
      ]
    },
    {
      "cell_type": "code",
      "metadata": {
        "id": "ak7oIF0jFi-A",
        "colab_type": "code",
        "colab": {}
      },
      "source": [
        "train, test = train_test_split(train,\n",
        "                               train_size=0.80,\n",
        "                               test_size=0.20,\n",
        "                               random_state=42)"
      ],
      "execution_count": 0,
      "outputs": []
    },
    {
      "cell_type": "code",
      "metadata": {
        "id": "QjxArdwcKvMV",
        "colab_type": "code",
        "colab": {
          "base_uri": "https://localhost:8080/",
          "height": 172
        },
        "outputId": "2c17222b-5373-4a9f-ffd1-51f914814b5d"
      },
      "source": [
        "df.describe(exclude='number')"
      ],
      "execution_count": 354,
      "outputs": [
        {
          "output_type": "execute_result",
          "data": {
            "text/html": [
              "<div>\n",
              "<style scoped>\n",
              "    .dataframe tbody tr th:only-of-type {\n",
              "        vertical-align: middle;\n",
              "    }\n",
              "\n",
              "    .dataframe tbody tr th {\n",
              "        vertical-align: top;\n",
              "    }\n",
              "\n",
              "    .dataframe thead th {\n",
              "        text-align: right;\n",
              "    }\n",
              "</style>\n",
              "<table border=\"1\" class=\"dataframe\">\n",
              "  <thead>\n",
              "    <tr style=\"text-align: right;\">\n",
              "      <th></th>\n",
              "      <th>districtText</th>\n",
              "      <th>furnishingCode</th>\n",
              "      <th>floorArea</th>\n",
              "      <th>bathrooms</th>\n",
              "      <th>pricePerSqFt</th>\n",
              "    </tr>\n",
              "  </thead>\n",
              "  <tbody>\n",
              "    <tr>\n",
              "      <th>count</th>\n",
              "      <td>24564</td>\n",
              "      <td>24564</td>\n",
              "      <td>24563</td>\n",
              "      <td>23870</td>\n",
              "      <td>24564</td>\n",
              "    </tr>\n",
              "    <tr>\n",
              "      <th>unique</th>\n",
              "      <td>45</td>\n",
              "      <td>4</td>\n",
              "      <td>555</td>\n",
              "      <td>5</td>\n",
              "      <td>7876</td>\n",
              "    </tr>\n",
              "    <tr>\n",
              "      <th>top</th>\n",
              "      <td>Hougang  /  Punggol  /  Sengkang</td>\n",
              "      <td>PART</td>\n",
              "      <td>1184</td>\n",
              "      <td>2</td>\n",
              "      <td>380.0675676</td>\n",
              "    </tr>\n",
              "    <tr>\n",
              "      <th>freq</th>\n",
              "      <td>4925</td>\n",
              "      <td>9100</td>\n",
              "      <td>2163</td>\n",
              "      <td>21259</td>\n",
              "      <td>199</td>\n",
              "    </tr>\n",
              "  </tbody>\n",
              "</table>\n",
              "</div>"
            ],
            "text/plain": [
              "                              districtText  ... pricePerSqFt\n",
              "count                                24564  ...        24564\n",
              "unique                                  45  ...         7876\n",
              "top      Hougang  /  Punggol  /  Sengkang   ...  380.0675676\n",
              "freq                                  4925  ...          199\n",
              "\n",
              "[4 rows x 5 columns]"
            ]
          },
          "metadata": {
            "tags": []
          },
          "execution_count": 354
        }
      ]
    },
    {
      "cell_type": "code",
      "metadata": {
        "id": "GziVa0em5nBL",
        "colab_type": "code",
        "colab": {}
      },
      "source": [
        "df['floorArea'] = df['floorArea'].astype(float)"
      ],
      "execution_count": 0,
      "outputs": []
    },
    {
      "cell_type": "code",
      "metadata": {
        "id": "XPm61PU65hQC",
        "colab_type": "code",
        "colab": {}
      },
      "source": [
        "df['bathrooms'] = df['bathrooms'].astype(float)"
      ],
      "execution_count": 0,
      "outputs": []
    },
    {
      "cell_type": "code",
      "metadata": {
        "id": "9xh7IwO16hOb",
        "colab_type": "code",
        "colab": {}
      },
      "source": [
        "df['pricePerSqFt'] = df['pricePerSqFt'].replace({'sqft': np.nan})"
      ],
      "execution_count": 0,
      "outputs": []
    },
    {
      "cell_type": "code",
      "metadata": {
        "id": "1kUUKtmH6ZIj",
        "colab_type": "code",
        "colab": {}
      },
      "source": [
        "df['pricePerSqFt'] = df['pricePerSqFt'].astype(float)"
      ],
      "execution_count": 0,
      "outputs": []
    },
    {
      "cell_type": "code",
      "metadata": {
        "id": "TIfyKNQc6C0c",
        "colab_type": "code",
        "colab": {
          "base_uri": "https://localhost:8080/",
          "height": 296
        },
        "outputId": "9eb81ea7-8dff-4d37-a711-012211f4c0cd"
      },
      "source": [
        "df.describe()"
      ],
      "execution_count": 359,
      "outputs": [
        {
          "output_type": "execute_result",
          "data": {
            "text/html": [
              "<div>\n",
              "<style scoped>\n",
              "    .dataframe tbody tr th:only-of-type {\n",
              "        vertical-align: middle;\n",
              "    }\n",
              "\n",
              "    .dataframe tbody tr th {\n",
              "        vertical-align: top;\n",
              "    }\n",
              "\n",
              "    .dataframe thead th {\n",
              "        text-align: right;\n",
              "    }\n",
              "</style>\n",
              "<table border=\"1\" class=\"dataframe\">\n",
              "  <thead>\n",
              "    <tr style=\"text-align: right;\">\n",
              "      <th></th>\n",
              "      <th>Unnamed: 0</th>\n",
              "      <th>value</th>\n",
              "      <th>floorArea</th>\n",
              "      <th>bedrooms</th>\n",
              "      <th>bathrooms</th>\n",
              "      <th>pricePerSqFt</th>\n",
              "      <th>hasFloorplans</th>\n",
              "      <th>latitude</th>\n",
              "      <th>longitude</th>\n",
              "      <th>full</th>\n",
              "      <th>MB</th>\n",
              "    </tr>\n",
              "  </thead>\n",
              "  <tbody>\n",
              "    <tr>\n",
              "      <th>count</th>\n",
              "      <td>24564.000</td>\n",
              "      <td>24564.000</td>\n",
              "      <td>24563.000</td>\n",
              "      <td>24564.000</td>\n",
              "      <td>23870.000</td>\n",
              "      <td>24563.000</td>\n",
              "      <td>24564.000</td>\n",
              "      <td>24117.000</td>\n",
              "      <td>24478.000</td>\n",
              "      <td>24564.000</td>\n",
              "      <td>24564.000</td>\n",
              "    </tr>\n",
              "    <tr>\n",
              "      <th>mean</th>\n",
              "      <td>12587.644</td>\n",
              "      <td>481441.236</td>\n",
              "      <td>1090.357</td>\n",
              "      <td>2.932</td>\n",
              "      <td>2.002</td>\n",
              "      <td>501.423</td>\n",
              "      <td>0.441</td>\n",
              "      <td>1.382</td>\n",
              "      <td>102.313</td>\n",
              "      <td>0.226</td>\n",
              "      <td>481441.236</td>\n",
              "    </tr>\n",
              "    <tr>\n",
              "      <th>std</th>\n",
              "      <td>7265.709</td>\n",
              "      <td>156289.207</td>\n",
              "      <td>848.994</td>\n",
              "      <td>0.604</td>\n",
              "      <td>0.341</td>\n",
              "      <td>517.167</td>\n",
              "      <td>0.497</td>\n",
              "      <td>1.152</td>\n",
              "      <td>12.395</td>\n",
              "      <td>0.418</td>\n",
              "      <td>0.000</td>\n",
              "    </tr>\n",
              "    <tr>\n",
              "      <th>min</th>\n",
              "      <td>0.000</td>\n",
              "      <td>210000.000</td>\n",
              "      <td>56.000</td>\n",
              "      <td>1.000</td>\n",
              "      <td>1.000</td>\n",
              "      <td>3.846</td>\n",
              "      <td>0.000</td>\n",
              "      <td>-0.000</td>\n",
              "      <td>0.000</td>\n",
              "      <td>0.000</td>\n",
              "      <td>481441.236</td>\n",
              "    </tr>\n",
              "    <tr>\n",
              "      <th>25%</th>\n",
              "      <td>6261.750</td>\n",
              "      <td>375000.000</td>\n",
              "      <td>914.500</td>\n",
              "      <td>3.000</td>\n",
              "      <td>2.000</td>\n",
              "      <td>369.150</td>\n",
              "      <td>0.000</td>\n",
              "      <td>1.341</td>\n",
              "      <td>103.773</td>\n",
              "      <td>0.000</td>\n",
              "      <td>481441.236</td>\n",
              "    </tr>\n",
              "    <tr>\n",
              "      <th>50%</th>\n",
              "      <td>12668.500</td>\n",
              "      <td>445000.000</td>\n",
              "      <td>1108.000</td>\n",
              "      <td>3.000</td>\n",
              "      <td>2.000</td>\n",
              "      <td>415.648</td>\n",
              "      <td>0.000</td>\n",
              "      <td>1.371</td>\n",
              "      <td>103.842</td>\n",
              "      <td>0.000</td>\n",
              "      <td>481441.236</td>\n",
              "    </tr>\n",
              "    <tr>\n",
              "      <th>75%</th>\n",
              "      <td>18888.250</td>\n",
              "      <td>550000.000</td>\n",
              "      <td>1280.000</td>\n",
              "      <td>3.000</td>\n",
              "      <td>2.000</td>\n",
              "      <td>486.726</td>\n",
              "      <td>1.000</td>\n",
              "      <td>1.398</td>\n",
              "      <td>103.890</td>\n",
              "      <td>0.000</td>\n",
              "      <td>481441.236</td>\n",
              "    </tr>\n",
              "    <tr>\n",
              "      <th>max</th>\n",
              "      <td>25097.000</td>\n",
              "      <td>2150000.000</td>\n",
              "      <td>124816.000</td>\n",
              "      <td>7.000</td>\n",
              "      <td>6.000</td>\n",
              "      <td>10614.525</td>\n",
              "      <td>1.000</td>\n",
              "      <td>150.000</td>\n",
              "      <td>130.000</td>\n",
              "      <td>1.000</td>\n",
              "      <td>481441.236</td>\n",
              "    </tr>\n",
              "  </tbody>\n",
              "</table>\n",
              "</div>"
            ],
            "text/plain": [
              "       Unnamed: 0       value  floorArea  ...  longitude      full         MB\n",
              "count   24564.000   24564.000  24563.000  ...  24478.000 24564.000  24564.000\n",
              "mean    12587.644  481441.236   1090.357  ...    102.313     0.226 481441.236\n",
              "std      7265.709  156289.207    848.994  ...     12.395     0.418      0.000\n",
              "min         0.000  210000.000     56.000  ...      0.000     0.000 481441.236\n",
              "25%      6261.750  375000.000    914.500  ...    103.773     0.000 481441.236\n",
              "50%     12668.500  445000.000   1108.000  ...    103.842     0.000 481441.236\n",
              "75%     18888.250  550000.000   1280.000  ...    103.890     0.000 481441.236\n",
              "max     25097.000 2150000.000 124816.000  ...    130.000     1.000 481441.236\n",
              "\n",
              "[8 rows x 11 columns]"
            ]
          },
          "metadata": {
            "tags": []
          },
          "execution_count": 359
        }
      ]
    },
    {
      "cell_type": "code",
      "metadata": {
        "id": "-78NS_XRFlhw",
        "colab_type": "code",
        "colab": {
          "base_uri": "https://localhost:8080/",
          "height": 34
        },
        "outputId": "213f72f8-cdaa-41cc-84d6-1150fea1ddab"
      },
      "source": [
        "train.shape, test.shape"
      ],
      "execution_count": 360,
      "outputs": [
        {
          "output_type": "execute_result",
          "data": {
            "text/plain": [
              "((19651, 13), (4913, 13))"
            ]
          },
          "metadata": {
            "tags": []
          },
          "execution_count": 360
        }
      ]
    },
    {
      "cell_type": "code",
      "metadata": {
        "id": "ZtTj8rnXFnTo",
        "colab_type": "code",
        "colab": {}
      },
      "source": [
        "train, val = train_test_split(train,\n",
        "                              train_size=0.80,\n",
        "                              test_size=0.20,\n",
        "                              random_state=43)"
      ],
      "execution_count": 0,
      "outputs": []
    },
    {
      "cell_type": "code",
      "metadata": {
        "id": "W1tZBYASFpiO",
        "colab_type": "code",
        "colab": {
          "base_uri": "https://localhost:8080/",
          "height": 34
        },
        "outputId": "a1415ed7-3fdd-4138-b190-c514f3f4d852"
      },
      "source": [
        "train.shape, val.shape, test.shape "
      ],
      "execution_count": 362,
      "outputs": [
        {
          "output_type": "execute_result",
          "data": {
            "text/plain": [
              "((15720, 13), (3931, 13), (4913, 13))"
            ]
          },
          "metadata": {
            "tags": []
          },
          "execution_count": 362
        }
      ]
    },
    {
      "cell_type": "code",
      "metadata": {
        "id": "kJL_G0sqFtJ9",
        "colab_type": "code",
        "colab": {}
      },
      "source": [
        "X_train = train[features]\n",
        "y_train = train[target]\n",
        "X_val = val[features]\n",
        "y_val = val[target]\n",
        "X_test = test[features]\n",
        "y_test = test[target]"
      ],
      "execution_count": 0,
      "outputs": []
    },
    {
      "cell_type": "code",
      "metadata": {
        "id": "yH5MN9zFFt_b",
        "colab_type": "code",
        "colab": {
          "base_uri": "https://localhost:8080/",
          "height": 34
        },
        "outputId": "74ab928a-eb3d-40de-de2a-3b67a168f99a"
      },
      "source": [
        "X_train.shape, X_val.shape, X_test.shape"
      ],
      "execution_count": 364,
      "outputs": [
        {
          "output_type": "execute_result",
          "data": {
            "text/plain": [
              "((15720, 9), (3931, 9), (4913, 9))"
            ]
          },
          "metadata": {
            "tags": []
          },
          "execution_count": 364
        }
      ]
    },
    {
      "cell_type": "code",
      "metadata": {
        "id": "Ot6Z8433Anj4",
        "colab_type": "code",
        "colab": {}
      },
      "source": [
        "encoder = ce.OneHotEncoder()\n",
        "# X_train_encode = encoder.fit_transform(X_train)"
      ],
      "execution_count": 0,
      "outputs": []
    },
    {
      "cell_type": "code",
      "metadata": {
        "id": "MIrN-mcDC5pm",
        "colab_type": "code",
        "colab": {}
      },
      "source": [
        "import matplotlib.pyplot as plt\n"
      ],
      "execution_count": 0,
      "outputs": []
    },
    {
      "cell_type": "code",
      "metadata": {
        "id": "4DMwsMrKAV7A",
        "colab_type": "code",
        "colab": {}
      },
      "source": [
        "# # Elbow Plot for k (1-10)\n",
        "# K = range(1,11)\n",
        "# # The average distance from each centroid, to the points in its cluster\n",
        "# distortion = []\n",
        "# for k in K:\n",
        "#   kmeans = KMeans(n_clusters = k)\n",
        "#   kmeans.fit(X_train_encode)\n",
        "#   distortion.append(kmeans.inertia_)\n",
        "# distortion\n"
      ],
      "execution_count": 0,
      "outputs": []
    },
    {
      "cell_type": "code",
      "metadata": {
        "id": "D7L7myJ0DBYR",
        "colab_type": "code",
        "colab": {}
      },
      "source": [
        "# Elbow Plot\n",
        "plt.plot(K, distortion, 'bx-')\n",
        "plt.title(\"Elbow Plot\")\n",
        "plt.show()"
      ],
      "execution_count": 0,
      "outputs": []
    },
    {
      "cell_type": "code",
      "metadata": {
        "id": "a84rdVrqFwPz",
        "colab_type": "code",
        "colab": {}
      },
      "source": [
        "pipeline = make_pipeline(\n",
        "    ce.OrdinalEncoder(),\n",
        "    ce.OneHotEncoder(),\n",
        "    # KMeans(n_clusters=15),\n",
        "    SimpleImputer(strategy='most_frequent'),\n",
        "    RandomForestRegressor(random_state=99, n_jobs=-1),\n",
        "    )"
      ],
      "execution_count": 0,
      "outputs": []
    },
    {
      "cell_type": "code",
      "metadata": {
        "id": "ddL3tMPwFyv2",
        "colab_type": "code",
        "colab": {
          "base_uri": "https://localhost:8080/",
          "height": 404
        },
        "outputId": "65844bdf-9273-499c-92b3-97ae76aa0437"
      },
      "source": [
        "pipeline.fit(X_train, y_train)"
      ],
      "execution_count": 373,
      "outputs": [
        {
          "output_type": "execute_result",
          "data": {
            "text/plain": [
              "Pipeline(memory=None,\n",
              "         steps=[('onehotencoder',\n",
              "                 OneHotEncoder(cols=['furnishingCode', 'floorArea', 'bathrooms',\n",
              "                                     'pricePerSqFt'],\n",
              "                               drop_invariant=False, handle_missing='value',\n",
              "                               handle_unknown='value', return_df=True,\n",
              "                               use_cat_names=False, verbose=0)),\n",
              "                ('simpleimputer',\n",
              "                 SimpleImputer(add_indicator=False, copy=True, fill_value=None,\n",
              "                               missing_values=nan, strategy='most_fre...\n",
              "                 RandomForestRegressor(bootstrap=True, ccp_alpha=0.0,\n",
              "                                       criterion='mse', max_depth=None,\n",
              "                                       max_features='auto', max_leaf_nodes=None,\n",
              "                                       max_samples=None,\n",
              "                                       min_impurity_decrease=0.0,\n",
              "                                       min_impurity_split=None,\n",
              "                                       min_samples_leaf=1, min_samples_split=2,\n",
              "                                       min_weight_fraction_leaf=0.0,\n",
              "                                       n_estimators=100, n_jobs=-1,\n",
              "                                       oob_score=False, random_state=99,\n",
              "                                       verbose=0, warm_start=False))],\n",
              "         verbose=False)"
            ]
          },
          "metadata": {
            "tags": []
          },
          "execution_count": 373
        }
      ]
    },
    {
      "cell_type": "code",
      "metadata": {
        "id": "Z6Mwy3fHF0eJ",
        "colab_type": "code",
        "colab": {
          "base_uri": "https://localhost:8080/",
          "height": 34
        },
        "outputId": "8146f8e0-63a9-45cc-d4db-f5f2137dfb17"
      },
      "source": [
        "y_pred = pipeline.predict(X_val)\n",
        "mean_absolute_error(y_val, y_pred)"
      ],
      "execution_count": 374,
      "outputs": [
        {
          "output_type": "execute_result",
          "data": {
            "text/plain": [
              "31009.6672068176"
            ]
          },
          "metadata": {
            "tags": []
          },
          "execution_count": 374
        }
      ]
    },
    {
      "cell_type": "code",
      "metadata": {
        "id": "gjxabcdL8PAG",
        "colab_type": "code",
        "colab": {
          "base_uri": "https://localhost:8080/",
          "height": 34
        },
        "outputId": "e467513c-9e92-49ad-dbd7-4d3951a7192e"
      },
      "source": [
        "pipeline.score(X_val, y_val)"
      ],
      "execution_count": 375,
      "outputs": [
        {
          "output_type": "execute_result",
          "data": {
            "text/plain": [
              "0.8376019749741053"
            ]
          },
          "metadata": {
            "tags": []
          },
          "execution_count": 375
        }
      ]
    },
    {
      "cell_type": "code",
      "metadata": {
        "id": "JPS1Dw5J9szg",
        "colab_type": "code",
        "colab": {
          "base_uri": "https://localhost:8080/",
          "height": 34
        },
        "outputId": "fddab554-b275-4ce3-d825-e86d71bca84f"
      },
      "source": [
        "df.shape"
      ],
      "execution_count": 376,
      "outputs": [
        {
          "output_type": "execute_result",
          "data": {
            "text/plain": [
              "(24564, 13)"
            ]
          },
          "metadata": {
            "tags": []
          },
          "execution_count": 376
        }
      ]
    },
    {
      "cell_type": "code",
      "metadata": {
        "id": "CnVspxAJIHNP",
        "colab_type": "code",
        "colab": {}
      },
      "source": [
        "from sklearn.model_selection import GridSearchCV, RandomizedSearchCV"
      ],
      "execution_count": 0,
      "outputs": []
    },
    {
      "cell_type": "code",
      "metadata": {
        "id": "xzeKd5eSHMEa",
        "colab_type": "code",
        "colab": {
          "base_uri": "https://localhost:8080/",
          "height": 367
        },
        "outputId": "0cb1ddb5-e533-4732-92f3-6ff2f17942f5"
      },
      "source": [
        "param_distributions = {\n",
        "    'simpleimputer__strategy': ['mean', 'median'], \n",
        "\n",
        "}\n",
        "### If you're on Colab, decrease n_iter & cv parameters\n",
        "search = RandomizedSearchCV(\n",
        "    pipeline, \n",
        "    param_distributions=param_distributions, \n",
        "    n_iter=100, \n",
        "    cv=5, \n",
        "    scoring='neg_mean_absolute_error', \n",
        "    verbose=10, \n",
        "    return_train_score=True, \n",
        "    n_jobs=-1\n",
        ")\n",
        "search.fit(X_train, y_train);"
      ],
      "execution_count": 380,
      "outputs": [
        {
          "output_type": "stream",
          "text": [
            "[Parallel(n_jobs=-1)]: Done   1 tasks      | elapsed:  6.3min\n"
          ],
          "name": "stderr"
        },
        {
          "output_type": "error",
          "ename": "KeyboardInterrupt",
          "evalue": "ignored",
          "traceback": [
            "\u001b[0;31m---------------------------------------------------------------------------\u001b[0m",
            "\u001b[0;31mKeyboardInterrupt\u001b[0m                         Traceback (most recent call last)",
            "\u001b[0;32m<ipython-input-380-1cfbd596ef6b>\u001b[0m in \u001b[0;36m<module>\u001b[0;34m()\u001b[0m\n\u001b[1;32m     15\u001b[0m     \u001b[0mn_jobs\u001b[0m\u001b[0;34m=\u001b[0m\u001b[0;34m-\u001b[0m\u001b[0;36m1\u001b[0m\u001b[0;34m\u001b[0m\u001b[0;34m\u001b[0m\u001b[0m\n\u001b[1;32m     16\u001b[0m )\n\u001b[0;32m---> 17\u001b[0;31m \u001b[0msearch\u001b[0m\u001b[0;34m.\u001b[0m\u001b[0mfit\u001b[0m\u001b[0;34m(\u001b[0m\u001b[0mX_train\u001b[0m\u001b[0;34m,\u001b[0m \u001b[0my_train\u001b[0m\u001b[0;34m)\u001b[0m\u001b[0;34m;\u001b[0m\u001b[0;34m\u001b[0m\u001b[0;34m\u001b[0m\u001b[0m\n\u001b[0m",
            "\u001b[0;32m/usr/local/lib/python3.6/dist-packages/sklearn/model_selection/_search.py\u001b[0m in \u001b[0;36mfit\u001b[0;34m(self, X, y, groups, **fit_params)\u001b[0m\n\u001b[1;32m    708\u001b[0m                 \u001b[0;32mreturn\u001b[0m \u001b[0mresults\u001b[0m\u001b[0;34m\u001b[0m\u001b[0;34m\u001b[0m\u001b[0m\n\u001b[1;32m    709\u001b[0m \u001b[0;34m\u001b[0m\u001b[0m\n\u001b[0;32m--> 710\u001b[0;31m             \u001b[0mself\u001b[0m\u001b[0;34m.\u001b[0m\u001b[0m_run_search\u001b[0m\u001b[0;34m(\u001b[0m\u001b[0mevaluate_candidates\u001b[0m\u001b[0;34m)\u001b[0m\u001b[0;34m\u001b[0m\u001b[0;34m\u001b[0m\u001b[0m\n\u001b[0m\u001b[1;32m    711\u001b[0m \u001b[0;34m\u001b[0m\u001b[0m\n\u001b[1;32m    712\u001b[0m         \u001b[0;31m# For multi-metric evaluation, store the best_index_, best_params_ and\u001b[0m\u001b[0;34m\u001b[0m\u001b[0;34m\u001b[0m\u001b[0;34m\u001b[0m\u001b[0m\n",
            "\u001b[0;32m/usr/local/lib/python3.6/dist-packages/sklearn/model_selection/_search.py\u001b[0m in \u001b[0;36m_run_search\u001b[0;34m(self, evaluate_candidates)\u001b[0m\n\u001b[1;32m   1482\u001b[0m         evaluate_candidates(ParameterSampler(\n\u001b[1;32m   1483\u001b[0m             \u001b[0mself\u001b[0m\u001b[0;34m.\u001b[0m\u001b[0mparam_distributions\u001b[0m\u001b[0;34m,\u001b[0m \u001b[0mself\u001b[0m\u001b[0;34m.\u001b[0m\u001b[0mn_iter\u001b[0m\u001b[0;34m,\u001b[0m\u001b[0;34m\u001b[0m\u001b[0;34m\u001b[0m\u001b[0m\n\u001b[0;32m-> 1484\u001b[0;31m             random_state=self.random_state))\n\u001b[0m",
            "\u001b[0;32m/usr/local/lib/python3.6/dist-packages/sklearn/model_selection/_search.py\u001b[0m in \u001b[0;36mevaluate_candidates\u001b[0;34m(candidate_params)\u001b[0m\n\u001b[1;32m    687\u001b[0m                                \u001b[0;32mfor\u001b[0m \u001b[0mparameters\u001b[0m\u001b[0;34m,\u001b[0m \u001b[0;34m(\u001b[0m\u001b[0mtrain\u001b[0m\u001b[0;34m,\u001b[0m \u001b[0mtest\u001b[0m\u001b[0;34m)\u001b[0m\u001b[0;34m\u001b[0m\u001b[0;34m\u001b[0m\u001b[0m\n\u001b[1;32m    688\u001b[0m                                in product(candidate_params,\n\u001b[0;32m--> 689\u001b[0;31m                                           cv.split(X, y, groups)))\n\u001b[0m\u001b[1;32m    690\u001b[0m \u001b[0;34m\u001b[0m\u001b[0m\n\u001b[1;32m    691\u001b[0m                 \u001b[0;32mif\u001b[0m \u001b[0mlen\u001b[0m\u001b[0;34m(\u001b[0m\u001b[0mout\u001b[0m\u001b[0;34m)\u001b[0m \u001b[0;34m<\u001b[0m \u001b[0;36m1\u001b[0m\u001b[0;34m:\u001b[0m\u001b[0;34m\u001b[0m\u001b[0;34m\u001b[0m\u001b[0m\n",
            "\u001b[0;32m/usr/local/lib/python3.6/dist-packages/joblib/parallel.py\u001b[0m in \u001b[0;36m__call__\u001b[0;34m(self, iterable)\u001b[0m\n\u001b[1;32m   1015\u001b[0m \u001b[0;34m\u001b[0m\u001b[0m\n\u001b[1;32m   1016\u001b[0m             \u001b[0;32mwith\u001b[0m \u001b[0mself\u001b[0m\u001b[0;34m.\u001b[0m\u001b[0m_backend\u001b[0m\u001b[0;34m.\u001b[0m\u001b[0mretrieval_context\u001b[0m\u001b[0;34m(\u001b[0m\u001b[0;34m)\u001b[0m\u001b[0;34m:\u001b[0m\u001b[0;34m\u001b[0m\u001b[0;34m\u001b[0m\u001b[0m\n\u001b[0;32m-> 1017\u001b[0;31m                 \u001b[0mself\u001b[0m\u001b[0;34m.\u001b[0m\u001b[0mretrieve\u001b[0m\u001b[0;34m(\u001b[0m\u001b[0;34m)\u001b[0m\u001b[0;34m\u001b[0m\u001b[0;34m\u001b[0m\u001b[0m\n\u001b[0m\u001b[1;32m   1018\u001b[0m             \u001b[0;31m# Make sure that we get a last message telling us we are done\u001b[0m\u001b[0;34m\u001b[0m\u001b[0;34m\u001b[0m\u001b[0;34m\u001b[0m\u001b[0m\n\u001b[1;32m   1019\u001b[0m             \u001b[0melapsed_time\u001b[0m \u001b[0;34m=\u001b[0m \u001b[0mtime\u001b[0m\u001b[0;34m.\u001b[0m\u001b[0mtime\u001b[0m\u001b[0;34m(\u001b[0m\u001b[0;34m)\u001b[0m \u001b[0;34m-\u001b[0m \u001b[0mself\u001b[0m\u001b[0;34m.\u001b[0m\u001b[0m_start_time\u001b[0m\u001b[0;34m\u001b[0m\u001b[0;34m\u001b[0m\u001b[0m\n",
            "\u001b[0;32m/usr/local/lib/python3.6/dist-packages/joblib/parallel.py\u001b[0m in \u001b[0;36mretrieve\u001b[0;34m(self)\u001b[0m\n\u001b[1;32m    907\u001b[0m             \u001b[0;32mtry\u001b[0m\u001b[0;34m:\u001b[0m\u001b[0;34m\u001b[0m\u001b[0;34m\u001b[0m\u001b[0m\n\u001b[1;32m    908\u001b[0m                 \u001b[0;32mif\u001b[0m \u001b[0mgetattr\u001b[0m\u001b[0;34m(\u001b[0m\u001b[0mself\u001b[0m\u001b[0;34m.\u001b[0m\u001b[0m_backend\u001b[0m\u001b[0;34m,\u001b[0m \u001b[0;34m'supports_timeout'\u001b[0m\u001b[0;34m,\u001b[0m \u001b[0;32mFalse\u001b[0m\u001b[0;34m)\u001b[0m\u001b[0;34m:\u001b[0m\u001b[0;34m\u001b[0m\u001b[0;34m\u001b[0m\u001b[0m\n\u001b[0;32m--> 909\u001b[0;31m                     \u001b[0mself\u001b[0m\u001b[0;34m.\u001b[0m\u001b[0m_output\u001b[0m\u001b[0;34m.\u001b[0m\u001b[0mextend\u001b[0m\u001b[0;34m(\u001b[0m\u001b[0mjob\u001b[0m\u001b[0;34m.\u001b[0m\u001b[0mget\u001b[0m\u001b[0;34m(\u001b[0m\u001b[0mtimeout\u001b[0m\u001b[0;34m=\u001b[0m\u001b[0mself\u001b[0m\u001b[0;34m.\u001b[0m\u001b[0mtimeout\u001b[0m\u001b[0;34m)\u001b[0m\u001b[0;34m)\u001b[0m\u001b[0;34m\u001b[0m\u001b[0;34m\u001b[0m\u001b[0m\n\u001b[0m\u001b[1;32m    910\u001b[0m                 \u001b[0;32melse\u001b[0m\u001b[0;34m:\u001b[0m\u001b[0;34m\u001b[0m\u001b[0;34m\u001b[0m\u001b[0m\n\u001b[1;32m    911\u001b[0m                     \u001b[0mself\u001b[0m\u001b[0;34m.\u001b[0m\u001b[0m_output\u001b[0m\u001b[0;34m.\u001b[0m\u001b[0mextend\u001b[0m\u001b[0;34m(\u001b[0m\u001b[0mjob\u001b[0m\u001b[0;34m.\u001b[0m\u001b[0mget\u001b[0m\u001b[0;34m(\u001b[0m\u001b[0;34m)\u001b[0m\u001b[0;34m)\u001b[0m\u001b[0;34m\u001b[0m\u001b[0;34m\u001b[0m\u001b[0m\n",
            "\u001b[0;32m/usr/local/lib/python3.6/dist-packages/joblib/_parallel_backends.py\u001b[0m in \u001b[0;36mwrap_future_result\u001b[0;34m(future, timeout)\u001b[0m\n\u001b[1;32m    560\u001b[0m         AsyncResults.get from multiprocessing.\"\"\"\n\u001b[1;32m    561\u001b[0m         \u001b[0;32mtry\u001b[0m\u001b[0;34m:\u001b[0m\u001b[0;34m\u001b[0m\u001b[0;34m\u001b[0m\u001b[0m\n\u001b[0;32m--> 562\u001b[0;31m             \u001b[0;32mreturn\u001b[0m \u001b[0mfuture\u001b[0m\u001b[0;34m.\u001b[0m\u001b[0mresult\u001b[0m\u001b[0;34m(\u001b[0m\u001b[0mtimeout\u001b[0m\u001b[0;34m=\u001b[0m\u001b[0mtimeout\u001b[0m\u001b[0;34m)\u001b[0m\u001b[0;34m\u001b[0m\u001b[0;34m\u001b[0m\u001b[0m\n\u001b[0m\u001b[1;32m    563\u001b[0m         \u001b[0;32mexcept\u001b[0m \u001b[0mLokyTimeoutError\u001b[0m\u001b[0;34m:\u001b[0m\u001b[0;34m\u001b[0m\u001b[0;34m\u001b[0m\u001b[0m\n\u001b[1;32m    564\u001b[0m             \u001b[0;32mraise\u001b[0m \u001b[0mTimeoutError\u001b[0m\u001b[0;34m(\u001b[0m\u001b[0;34m)\u001b[0m\u001b[0;34m\u001b[0m\u001b[0;34m\u001b[0m\u001b[0m\n",
            "\u001b[0;32m/usr/lib/python3.6/concurrent/futures/_base.py\u001b[0m in \u001b[0;36mresult\u001b[0;34m(self, timeout)\u001b[0m\n\u001b[1;32m    425\u001b[0m                 \u001b[0;32mreturn\u001b[0m \u001b[0mself\u001b[0m\u001b[0;34m.\u001b[0m\u001b[0m__get_result\u001b[0m\u001b[0;34m(\u001b[0m\u001b[0;34m)\u001b[0m\u001b[0;34m\u001b[0m\u001b[0;34m\u001b[0m\u001b[0m\n\u001b[1;32m    426\u001b[0m \u001b[0;34m\u001b[0m\u001b[0m\n\u001b[0;32m--> 427\u001b[0;31m             \u001b[0mself\u001b[0m\u001b[0;34m.\u001b[0m\u001b[0m_condition\u001b[0m\u001b[0;34m.\u001b[0m\u001b[0mwait\u001b[0m\u001b[0;34m(\u001b[0m\u001b[0mtimeout\u001b[0m\u001b[0;34m)\u001b[0m\u001b[0;34m\u001b[0m\u001b[0;34m\u001b[0m\u001b[0m\n\u001b[0m\u001b[1;32m    428\u001b[0m \u001b[0;34m\u001b[0m\u001b[0m\n\u001b[1;32m    429\u001b[0m             \u001b[0;32mif\u001b[0m \u001b[0mself\u001b[0m\u001b[0;34m.\u001b[0m\u001b[0m_state\u001b[0m \u001b[0;32min\u001b[0m \u001b[0;34m[\u001b[0m\u001b[0mCANCELLED\u001b[0m\u001b[0;34m,\u001b[0m \u001b[0mCANCELLED_AND_NOTIFIED\u001b[0m\u001b[0;34m]\u001b[0m\u001b[0;34m:\u001b[0m\u001b[0;34m\u001b[0m\u001b[0;34m\u001b[0m\u001b[0m\n",
            "\u001b[0;32m/usr/lib/python3.6/threading.py\u001b[0m in \u001b[0;36mwait\u001b[0;34m(self, timeout)\u001b[0m\n\u001b[1;32m    293\u001b[0m         \u001b[0;32mtry\u001b[0m\u001b[0;34m:\u001b[0m    \u001b[0;31m# restore state no matter what (e.g., KeyboardInterrupt)\u001b[0m\u001b[0;34m\u001b[0m\u001b[0;34m\u001b[0m\u001b[0m\n\u001b[1;32m    294\u001b[0m             \u001b[0;32mif\u001b[0m \u001b[0mtimeout\u001b[0m \u001b[0;32mis\u001b[0m \u001b[0;32mNone\u001b[0m\u001b[0;34m:\u001b[0m\u001b[0;34m\u001b[0m\u001b[0;34m\u001b[0m\u001b[0m\n\u001b[0;32m--> 295\u001b[0;31m                 \u001b[0mwaiter\u001b[0m\u001b[0;34m.\u001b[0m\u001b[0macquire\u001b[0m\u001b[0;34m(\u001b[0m\u001b[0;34m)\u001b[0m\u001b[0;34m\u001b[0m\u001b[0;34m\u001b[0m\u001b[0m\n\u001b[0m\u001b[1;32m    296\u001b[0m                 \u001b[0mgotit\u001b[0m \u001b[0;34m=\u001b[0m \u001b[0;32mTrue\u001b[0m\u001b[0;34m\u001b[0m\u001b[0;34m\u001b[0m\u001b[0m\n\u001b[1;32m    297\u001b[0m             \u001b[0;32melse\u001b[0m\u001b[0;34m:\u001b[0m\u001b[0;34m\u001b[0m\u001b[0;34m\u001b[0m\u001b[0m\n",
            "\u001b[0;31mKeyboardInterrupt\u001b[0m: "
          ]
        }
      ]
    },
    {
      "cell_type": "markdown",
      "metadata": {
        "id": "GAsWqzTPCql8",
        "colab_type": "text"
      },
      "source": [
        "Your code starts here:"
      ]
    },
    {
      "cell_type": "code",
      "metadata": {
        "id": "xLPJoBr5Cql9",
        "colab_type": "code",
        "colab": {}
      },
      "source": [
        "# Change column names: replace spaces with underscores\n"
      ],
      "execution_count": 0,
      "outputs": []
    },
    {
      "cell_type": "code",
      "metadata": {
        "id": "9vKc-smHGyGA",
        "colab_type": "code",
        "colab": {}
      },
      "source": [
        ""
      ],
      "execution_count": 0,
      "outputs": []
    },
    {
      "cell_type": "code",
      "metadata": {
        "id": "BTedyXutCqmB",
        "colab_type": "code",
        "colab": {}
      },
      "source": [
        "# Get Pandas Profiling Report\n"
      ],
      "execution_count": 0,
      "outputs": []
    },
    {
      "cell_type": "code",
      "metadata": {
        "id": "rttvOcuwCqmE",
        "colab_type": "code",
        "colab": {}
      },
      "source": [
        "# Keep just the subset of data for the Tribeca neighborhood\n",
        "# Check how many rows you have now. (Should go down from > 20k rows to 146)\n"
      ],
      "execution_count": 0,
      "outputs": []
    },
    {
      "cell_type": "code",
      "metadata": {
        "id": "4o1pIWwdCqmI",
        "colab_type": "code",
        "colab": {}
      },
      "source": [
        "# Q. What's the date range of these property sales in Tribeca?\n"
      ],
      "execution_count": 0,
      "outputs": []
    },
    {
      "cell_type": "code",
      "metadata": {
        "id": "2GtzPEYRCqmM",
        "colab_type": "code",
        "colab": {}
      },
      "source": [
        "# The Pandas Profiling Report showed that SALE_PRICE was read as strings\n",
        "# Convert it to integers\n"
      ],
      "execution_count": 0,
      "outputs": []
    },
    {
      "cell_type": "code",
      "metadata": {
        "id": "ynZiVFrOCqmP",
        "colab_type": "code",
        "colab": {}
      },
      "source": [
        "# Q. What is the maximum SALE_PRICE in this dataset?\n"
      ],
      "execution_count": 0,
      "outputs": []
    },
    {
      "cell_type": "code",
      "metadata": {
        "id": "bS33zrhbCqmT",
        "colab_type": "code",
        "colab": {}
      },
      "source": [
        "# Look at the row with the max SALE_PRICE\n"
      ],
      "execution_count": 0,
      "outputs": []
    },
    {
      "cell_type": "code",
      "metadata": {
        "id": "bBJt6KTGCqmX",
        "colab_type": "code",
        "colab": {}
      },
      "source": [
        "# Get value counts of TOTAL_UNITS\n",
        "# Q. How many property sales were for multiple units?\n"
      ],
      "execution_count": 0,
      "outputs": []
    },
    {
      "cell_type": "code",
      "metadata": {
        "id": "WkV1g68nCqmb",
        "colab_type": "code",
        "colab": {}
      },
      "source": [
        "# Keep only the single units\n"
      ],
      "execution_count": 0,
      "outputs": []
    },
    {
      "cell_type": "code",
      "metadata": {
        "id": "K86dps_8Cqme",
        "colab_type": "code",
        "colab": {}
      },
      "source": [
        "# Q. Now what is the max sales price? How many square feet does it have?\n"
      ],
      "execution_count": 0,
      "outputs": []
    },
    {
      "cell_type": "code",
      "metadata": {
        "id": "4o1zjmTTCqmh",
        "colab_type": "code",
        "colab": {}
      },
      "source": [
        "# Q. How often did $0 sales occur in this subset of the data?\n",
        "\n",
        "# There's a glossary here: \n",
        "# https://www1.nyc.gov/site/finance/taxes/property-rolling-sales-data.page\n",
        "\n",
        "# It says:\n",
        "# A $0 sale indicates that there was a transfer of ownership without a \n",
        "# cash consideration. There can be a number of reasons for a $0 sale including \n",
        "# transfers of ownership from parents to children. \n",
        "\n"
      ],
      "execution_count": 0,
      "outputs": []
    },
    {
      "cell_type": "code",
      "metadata": {
        "id": "kmCRV4DTCqmk",
        "colab_type": "code",
        "colab": {}
      },
      "source": [
        "# Look at property sales for > 5,000 square feet\n",
        "# Q. What is the highest square footage you see?\n"
      ],
      "execution_count": 0,
      "outputs": []
    },
    {
      "cell_type": "code",
      "metadata": {
        "id": "cdL83v1YCqmo",
        "colab_type": "code",
        "colab": {}
      },
      "source": [
        "# What are the building class categories?\n",
        "# How frequently does each occur?\n"
      ],
      "execution_count": 0,
      "outputs": []
    },
    {
      "cell_type": "code",
      "metadata": {
        "id": "G3zJLxSvCqmr",
        "colab_type": "code",
        "colab": {}
      },
      "source": [
        "# Keep subset of rows:\n",
        "# Sale price more than $0, \n",
        "# Building class category = Condos - Elevator Apartments\n",
        "\n",
        "# Check how many rows you have now. (Should be 106 rows.)\n"
      ],
      "execution_count": 0,
      "outputs": []
    },
    {
      "cell_type": "code",
      "metadata": {
        "id": "OOx2gKABCqmu",
        "colab_type": "code",
        "colab": {}
      },
      "source": [
        "# Make a Plotly Express scatter plot of GROSS_SQUARE_FEET vs SALE_PRICE\n"
      ],
      "execution_count": 0,
      "outputs": []
    },
    {
      "cell_type": "code",
      "metadata": {
        "id": "Br6fjS3UCqmx",
        "colab_type": "code",
        "colab": {}
      },
      "source": [
        "# Add an OLS (Ordinary Least Squares) trendline,\n",
        "# to see how the outliers influence the \"line of best fit\"\n"
      ],
      "execution_count": 0,
      "outputs": []
    },
    {
      "cell_type": "code",
      "metadata": {
        "id": "VFXsjB_TCqm1",
        "colab_type": "code",
        "colab": {}
      },
      "source": [
        "# Look at sales for more than $35 million\n",
        "\n",
        "# All are at 70 Vestry Street\n",
        "# All but one have the same SALE_PRICE & SALE_DATE\n",
        "# Was the SALE_PRICE for each? Or in total?\n",
        "# Is this dirty data?\n"
      ],
      "execution_count": 0,
      "outputs": []
    },
    {
      "cell_type": "code",
      "metadata": {
        "id": "LXNi0DQTCqm4",
        "colab_type": "code",
        "colab": {}
      },
      "source": [
        "# Make a judgment call:\n",
        "# Keep rows where sale price was < $35 million\n",
        "\n",
        "# Check how many rows you have now. (Should be down to 90 rows.)\n"
      ],
      "execution_count": 0,
      "outputs": []
    },
    {
      "cell_type": "code",
      "metadata": {
        "id": "Epjx1yxgCqm7",
        "colab_type": "code",
        "colab": {}
      },
      "source": [
        "# Now that you've removed outliers,\n",
        "# Look again at a scatter plot with OLS (Ordinary Least Squares) trendline\n"
      ],
      "execution_count": 0,
      "outputs": []
    },
    {
      "cell_type": "code",
      "metadata": {
        "id": "KD4LFLZECqm_",
        "colab_type": "code",
        "colab": {}
      },
      "source": [
        "# Select these columns, then write to a csv file named tribeca.csv. Don't include the index.\n"
      ],
      "execution_count": 0,
      "outputs": []
    }
  ]
}