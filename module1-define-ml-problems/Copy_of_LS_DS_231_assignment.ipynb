{
  "nbformat": 4,
  "nbformat_minor": 0,
  "metadata": {
    "kernelspec": {
      "display_name": "Python 3",
      "language": "python",
      "name": "python3"
    },
    "language_info": {
      "codemirror_mode": {
        "name": "ipython",
        "version": 3
      },
      "file_extension": ".py",
      "mimetype": "text/x-python",
      "name": "python",
      "nbconvert_exporter": "python",
      "pygments_lexer": "ipython3",
      "version": "3.7.6"
    },
    "colab": {
      "name": "Copy of LS_DS_231_assignment.ipynb",
      "provenance": [],
      "include_colab_link": true
    }
  },
  "cells": [
    {
      "cell_type": "markdown",
      "metadata": {
        "id": "view-in-github",
        "colab_type": "text"
      },
      "source": [
        "<a href=\"https://colab.research.google.com/github/Data-alchemist-mani/DS-Unit-2-Applied-Modeling/blob/master/module1-define-ml-problems/Copy_of_LS_DS_231_assignment.ipynb\" target=\"_parent\"><img src=\"https://colab.research.google.com/assets/colab-badge.svg\" alt=\"Open In Colab\"/></a>"
      ]
    },
    {
      "cell_type": "markdown",
      "metadata": {
        "colab_type": "text",
        "id": "nCc3XZEyG3XV"
      },
      "source": [
        "Lambda School Data Science\n",
        "\n",
        "*Unit 2, Sprint 3, Module 1*\n",
        "\n",
        "---\n",
        "\n",
        "\n",
        "# Define ML problems\n",
        "\n",
        "You will use your portfolio project dataset for all assignments this sprint.\n",
        "\n",
        "## Assignment\n",
        "\n",
        "Complete these tasks for your project, and document your decisions.\n",
        "\n",
        "- [ ] Choose your target. Which column in your tabular dataset will you predict?\n",
        "- [ ] Is your problem regression or classification?\n",
        "- [ ] How is your target distributed?\n",
        "    - Classification: How many classes? Are the classes imbalanced?\n",
        "    - Regression: Is the target right-skewed? If so, you may want to log transform the target.\n",
        "- [ ] Choose your evaluation metric(s).\n",
        "    - Classification: Is your majority class frequency >= 50% and < 70% ? If so, you can just use accuracy if you want. Outside that range, accuracy could be misleading. What evaluation metric will you choose, in addition to or instead of accuracy?\n",
        "    - Regression: Will you use mean absolute error, root mean squared error, R^2, or other regression metrics?\n",
        "- [ ] Choose which observations you will use to train, validate, and test your model.\n",
        "    - Are some observations outliers? Will you exclude them?\n",
        "    - Will you do a random split or a time-based split?\n",
        "- [ ] Begin to clean and explore your data.\n",
        "- [ ] Begin to choose which features, if any, to exclude. Would some features \"leak\" future information?\n",
        "\n",
        "If you haven't found a dataset yet, do that today. [Review requirements for your portfolio project](https://lambdaschool.github.io/ds/unit2) and choose your dataset.\n",
        "\n",
        "Some students worry, ***what if my model isn't “good”?*** Then, [produce a detailed tribute to your wrongness. That is science!](https://twitter.com/nathanwpyle/status/1176860147223867393)"
      ]
    },
    {
      "cell_type": "code",
      "metadata": {
        "id": "i-xkir5jNS3T",
        "colab_type": "code",
        "colab": {}
      },
      "source": [
        "# data set from:\n",
        "# https://www.kaggle.com/chenzhiliang/housing-data"
      ],
      "execution_count": 0,
      "outputs": []
    },
    {
      "cell_type": "code",
      "metadata": {
        "id": "JhT3ZhpqL65o",
        "colab_type": "code",
        "colab": {}
      },
      "source": [
        "# file is on my computer\n",
        "from google.colab import files"
      ],
      "execution_count": 0,
      "outputs": []
    },
    {
      "cell_type": "code",
      "metadata": {
        "id": "8Ac4XeQpK1cc",
        "colab_type": "code",
        "colab": {
          "resources": {
            "http://localhost:8080/nbextensions/google.colab/files.js": {
              "data": "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",
              "ok": true,
              "headers": [
                [
                  "content-type",
                  "application/javascript"
                ]
              ],
              "status": 200,
              "status_text": ""
            }
          },
          "base_uri": "https://localhost:8080/",
          "height": 40
        },
        "outputId": "f8f6362d-7d88-47c7-d31e-1607301f10fb"
      },
      "source": [
        "uploaded = files.upload()"
      ],
      "execution_count": 188,
      "outputs": [
        {
          "output_type": "display_data",
          "data": {
            "text/html": [
              "\n",
              "     <input type=\"file\" id=\"files-70bb39be-a20e-42c3-8dca-aa2f55216512\" name=\"files[]\" multiple disabled />\n",
              "     <output id=\"result-70bb39be-a20e-42c3-8dca-aa2f55216512\">\n",
              "      Upload widget is only available when the cell has been executed in the\n",
              "      current browser session. Please rerun this cell to enable.\n",
              "      </output>\n",
              "      <script src=\"/nbextensions/google.colab/files.js\"></script> "
            ],
            "text/plain": [
              "<IPython.core.display.HTML object>"
            ]
          },
          "metadata": {
            "tags": []
          }
        }
      ]
    },
    {
      "cell_type": "code",
      "metadata": {
        "id": "FbeBQ5QkPh5S",
        "colab_type": "code",
        "colab": {
          "base_uri": "https://localhost:8080/",
          "height": 210
        },
        "outputId": "8cb99951-8712-4833-87ef-71d3ab31ab67"
      },
      "source": [
        "# getting my category encoder\n",
        "!pip install category_encoders"
      ],
      "execution_count": 189,
      "outputs": [
        {
          "output_type": "stream",
          "text": [
            "Requirement already satisfied: category_encoders in /usr/local/lib/python3.6/dist-packages (2.1.0)\n",
            "Requirement already satisfied: statsmodels>=0.6.1 in /usr/local/lib/python3.6/dist-packages (from category_encoders) (0.10.2)\n",
            "Requirement already satisfied: scikit-learn>=0.20.0 in /usr/local/lib/python3.6/dist-packages (from category_encoders) (0.22.1)\n",
            "Requirement already satisfied: pandas>=0.21.1 in /usr/local/lib/python3.6/dist-packages (from category_encoders) (0.25.3)\n",
            "Requirement already satisfied: numpy>=1.11.3 in /usr/local/lib/python3.6/dist-packages (from category_encoders) (1.17.5)\n",
            "Requirement already satisfied: scipy>=0.19.0 in /usr/local/lib/python3.6/dist-packages (from category_encoders) (1.4.1)\n",
            "Requirement already satisfied: patsy>=0.4.1 in /usr/local/lib/python3.6/dist-packages (from category_encoders) (0.5.1)\n",
            "Requirement already satisfied: joblib>=0.11 in /usr/local/lib/python3.6/dist-packages (from scikit-learn>=0.20.0->category_encoders) (0.14.1)\n",
            "Requirement already satisfied: python-dateutil>=2.6.1 in /usr/local/lib/python3.6/dist-packages (from pandas>=0.21.1->category_encoders) (2.6.1)\n",
            "Requirement already satisfied: pytz>=2017.2 in /usr/local/lib/python3.6/dist-packages (from pandas>=0.21.1->category_encoders) (2018.9)\n",
            "Requirement already satisfied: six in /usr/local/lib/python3.6/dist-packages (from patsy>=0.4.1->category_encoders) (1.12.0)\n"
          ],
          "name": "stdout"
        }
      ]
    },
    {
      "cell_type": "code",
      "metadata": {
        "id": "JHj55TvPMf0_",
        "colab_type": "code",
        "colab": {}
      },
      "source": [
        "# getting all my imports\n",
        "import pandas as pd\n",
        "import numpy as np\n",
        "import seaborn as sns\n",
        "import category_encoders as ce\n",
        "from sklearn.model_selection import train_test_split\n",
        "from sklearn.linear_model import LinearRegression\n",
        "from sklearn.pipeline import make_pipeline\n",
        "from sklearn.preprocessing import StandardScaler\n",
        "from sklearn.ensemble import RandomForestClassifier, RandomForestRegressor\n",
        "from sklearn.tree import DecisionTreeRegressor, DecisionTreeClassifier\n",
        "from sklearn.metrics import roc_auc_score\n",
        "from sklearn.impute import SimpleImputer\n"
      ],
      "execution_count": 0,
      "outputs": []
    },
    {
      "cell_type": "code",
      "metadata": {
        "id": "nZGMZFMPNXwn",
        "colab_type": "code",
        "colab": {}
      },
      "source": [
        "# looking at my dataframe\n",
        "df = pd.read_csv('Housing_Data.csv')"
      ],
      "execution_count": 0,
      "outputs": []
    },
    {
      "cell_type": "code",
      "metadata": {
        "id": "XPJ8R79GNhXx",
        "colab_type": "code",
        "colab": {
          "base_uri": "https://localhost:8080/",
          "height": 34
        },
        "outputId": "12df9cf3-93c0-40c2-f55f-118fa3dbb462"
      },
      "source": [
        "df.shape"
      ],
      "execution_count": 192,
      "outputs": [
        {
          "output_type": "execute_result",
          "data": {
            "text/plain": [
              "(24564, 11)"
            ]
          },
          "metadata": {
            "tags": []
          },
          "execution_count": 192
        }
      ]
    },
    {
      "cell_type": "code",
      "metadata": {
        "id": "1bOEMahtNi9_",
        "colab_type": "code",
        "colab": {
          "base_uri": "https://localhost:8080/",
          "height": 203
        },
        "outputId": "186e8538-3591-408d-d343-6dc43fc3376a"
      },
      "source": [
        "df.head()"
      ],
      "execution_count": 193,
      "outputs": [
        {
          "output_type": "execute_result",
          "data": {
            "text/html": [
              "<div>\n",
              "<style scoped>\n",
              "    .dataframe tbody tr th:only-of-type {\n",
              "        vertical-align: middle;\n",
              "    }\n",
              "\n",
              "    .dataframe tbody tr th {\n",
              "        vertical-align: top;\n",
              "    }\n",
              "\n",
              "    .dataframe thead th {\n",
              "        text-align: right;\n",
              "    }\n",
              "</style>\n",
              "<table border=\"1\" class=\"dataframe\">\n",
              "  <thead>\n",
              "    <tr style=\"text-align: right;\">\n",
              "      <th></th>\n",
              "      <th>Unnamed: 0</th>\n",
              "      <th>districtText</th>\n",
              "      <th>furnishingCode</th>\n",
              "      <th>value</th>\n",
              "      <th>floorArea</th>\n",
              "      <th>bedrooms</th>\n",
              "      <th>bathrooms</th>\n",
              "      <th>pricePerSqFt</th>\n",
              "      <th>hasFloorplans</th>\n",
              "      <th>latitude</th>\n",
              "      <th>longitude</th>\n",
              "    </tr>\n",
              "  </thead>\n",
              "  <tbody>\n",
              "    <tr>\n",
              "      <th>0</th>\n",
              "      <td>0</td>\n",
              "      <td>Hougang  /  Punggol  /  Sengkang</td>\n",
              "      <td>FULL</td>\n",
              "      <td>458000</td>\n",
              "      <td>990</td>\n",
              "      <td>3</td>\n",
              "      <td>2</td>\n",
              "      <td>462.6262626</td>\n",
              "      <td>True</td>\n",
              "      <td>1.402608</td>\n",
              "      <td>103.911427</td>\n",
              "    </tr>\n",
              "    <tr>\n",
              "      <th>1</th>\n",
              "      <td>1</td>\n",
              "      <td>Buona  Vista  /  West  Coast  /  Clementi  Ne...</td>\n",
              "      <td>FULL</td>\n",
              "      <td>775000</td>\n",
              "      <td>1022</td>\n",
              "      <td>3</td>\n",
              "      <td>2</td>\n",
              "      <td>758.3170254</td>\n",
              "      <td>False</td>\n",
              "      <td>1.306192</td>\n",
              "      <td>103.782499</td>\n",
              "    </tr>\n",
              "    <tr>\n",
              "      <th>2</th>\n",
              "      <td>2</td>\n",
              "      <td>Ang  Mo  Kio  /  Bishan  /  Thomson</td>\n",
              "      <td>UNFUR</td>\n",
              "      <td>875000</td>\n",
              "      <td>1259</td>\n",
              "      <td>3</td>\n",
              "      <td>2</td>\n",
              "      <td>694.9960286</td>\n",
              "      <td>True</td>\n",
              "      <td>1.371803482</td>\n",
              "      <td>103.8535492</td>\n",
              "    </tr>\n",
              "    <tr>\n",
              "      <th>3</th>\n",
              "      <td>3</td>\n",
              "      <td>Admiralty  /  Woodlands</td>\n",
              "      <td>UNKNOWN</td>\n",
              "      <td>280000</td>\n",
              "      <td>699</td>\n",
              "      <td>3</td>\n",
              "      <td>2</td>\n",
              "      <td>400.5722461</td>\n",
              "      <td>False</td>\n",
              "      <td>1.442670315</td>\n",
              "      <td>103.7778019</td>\n",
              "    </tr>\n",
              "    <tr>\n",
              "      <th>4</th>\n",
              "      <td>4</td>\n",
              "      <td>Hougang  /  Punggol  /  Sengkang</td>\n",
              "      <td>PART</td>\n",
              "      <td>410000</td>\n",
              "      <td>1184</td>\n",
              "      <td>3</td>\n",
              "      <td>2</td>\n",
              "      <td>346.2837838</td>\n",
              "      <td>True</td>\n",
              "      <td>1.393140738</td>\n",
              "      <td>103.8883531</td>\n",
              "    </tr>\n",
              "  </tbody>\n",
              "</table>\n",
              "</div>"
            ],
            "text/plain": [
              "   Unnamed: 0  ...    longitude\n",
              "0           0  ...   103.911427\n",
              "1           1  ...   103.782499\n",
              "2           2  ...  103.8535492\n",
              "3           3  ...  103.7778019\n",
              "4           4  ...  103.8883531\n",
              "\n",
              "[5 rows x 11 columns]"
            ]
          },
          "metadata": {
            "tags": []
          },
          "execution_count": 193
        }
      ]
    },
    {
      "cell_type": "code",
      "metadata": {
        "id": "cRKp0C8bbwcm",
        "colab_type": "code",
        "colab": {}
      },
      "source": [
        "pd.set_option('display.float_format', lambda x: '%.3f' % x)"
      ],
      "execution_count": 0,
      "outputs": []
    },
    {
      "cell_type": "code",
      "metadata": {
        "id": "ty9y1iEHOoMz",
        "colab_type": "code",
        "colab": {
          "base_uri": "https://localhost:8080/",
          "height": 175
        },
        "outputId": "5bb222af-0ef5-41e0-8659-5fac946fcc3d"
      },
      "source": [
        "df['value'].describe()"
      ],
      "execution_count": 195,
      "outputs": [
        {
          "output_type": "execute_result",
          "data": {
            "text/plain": [
              "count     24564.000\n",
              "mean     481441.236\n",
              "std      156289.207\n",
              "min      210000.000\n",
              "25%      375000.000\n",
              "50%      445000.000\n",
              "75%      550000.000\n",
              "max     2150000.000\n",
              "Name: value, dtype: float64"
            ]
          },
          "metadata": {
            "tags": []
          },
          "execution_count": 195
        }
      ]
    },
    {
      "cell_type": "code",
      "metadata": {
        "id": "aTOyHmQkP-sE",
        "colab_type": "code",
        "colab": {}
      },
      "source": [
        "y = df['value']"
      ],
      "execution_count": 0,
      "outputs": []
    },
    {
      "cell_type": "code",
      "metadata": {
        "id": "65YsS0PSV9p2",
        "colab_type": "code",
        "colab": {
          "base_uri": "https://localhost:8080/",
          "height": 34
        },
        "outputId": "bf1751a5-ad91-4614-e2eb-8dd37d8e8f54"
      },
      "source": [
        "y.mean()"
      ],
      "execution_count": 197,
      "outputs": [
        {
          "output_type": "execute_result",
          "data": {
            "text/plain": [
              "481441.23558866634"
            ]
          },
          "metadata": {
            "tags": []
          },
          "execution_count": 197
        }
      ]
    },
    {
      "cell_type": "code",
      "metadata": {
        "id": "All-91nTWA74",
        "colab_type": "code",
        "colab": {
          "base_uri": "https://localhost:8080/",
          "height": 386
        },
        "outputId": "d6288119-ce37-4877-9c2a-423241d1c74d"
      },
      "source": [
        "#clean this column\n",
        "df['districtText'].unique()"
      ],
      "execution_count": 198,
      "outputs": [
        {
          "output_type": "execute_result",
          "data": {
            "text/plain": [
              "array([' Hougang  /  Punggol  /  Sengkang ',\n",
              "       ' Buona  Vista  /  West  Coast  /  Clementi  New  Town ',\n",
              "       ' Ang  Mo  Kio  /  Bishan  /  Thomson ',\n",
              "       ' Admiralty  /  Woodlands ', ' Boon  Lay  /  Jurong  /  Tuas ',\n",
              "       ' Pasir  Ris  /  Tampines ', ' Sembawang  /  Yishun ',\n",
              "       ' Balestier  /  Toa  Payoh ', ' Alexandra  /  Commonwealth ',\n",
              "       ' Tanglin  /  Holland  /  Bukit  Timah ',\n",
              "       ' Dairy  Farm  /  Bukit  Panjang  /  Choa  Chu  Kang ',\n",
              "       ' Seletar  /  Yio  Chu  Kang ', ' Macpherson  /  Potong  Pasir ',\n",
              "       ' East  Coast  /  Marine  Parade ',\n",
              "       ' Beach  Road  /  Bugis  /  Rochor ',\n",
              "       ' Bedok  /  Upper  East  Coast ',\n",
              "       ' Harbourfront  /  Telok  Blangah ', 'D03', 'D23', 'D21',\n",
              "       ' Boat  Quay  /  Raffles  Place  /  Marina ',\n",
              "       ' Farrer  Park  /  Serangoon  Rd ',\n",
              "       ' Chinatown  /  Tanjong  Pagar ',\n",
              "       ' Eunos  /  Geylang  /  Paya  Lebar ', 'D12', 'D22', 'D05', 'D19',\n",
              "       'D25', 'D20', 'D27', 'D02', 'D18',\n",
              "       ' Changi  Airport  /  Changi  Village ', 'D16', 'D04', 'D10',\n",
              "       'D28', ' Mandai  /  Upper  Thomson ', 'D14',\n",
              "       'newton-bt-timah-d11-21', 'D11', 'D13', 'D08', 'D07'], dtype=object)"
            ]
          },
          "metadata": {
            "tags": []
          },
          "execution_count": 198
        }
      ]
    },
    {
      "cell_type": "code",
      "metadata": {
        "id": "XM-8ztmbWqDX",
        "colab_type": "code",
        "colab": {
          "base_uri": "https://localhost:8080/",
          "height": 34
        },
        "outputId": "9c56e1a6-7490-44ca-abcc-3c8fb6d9a9a0"
      },
      "source": [
        "#catergorical encoder\n",
        "df['furnishingCode'].unique()"
      ],
      "execution_count": 199,
      "outputs": [
        {
          "output_type": "execute_result",
          "data": {
            "text/plain": [
              "array(['FULL', 'UNFUR', 'UNKNOWN', 'PART'], dtype=object)"
            ]
          },
          "metadata": {
            "tags": []
          },
          "execution_count": 199
        }
      ]
    },
    {
      "cell_type": "code",
      "metadata": {
        "id": "VdyQHXNjX79H",
        "colab_type": "code",
        "colab": {
          "base_uri": "https://localhost:8080/",
          "height": 87
        },
        "outputId": "d30558ed-d936-4c2d-d2b7-edd9cd3e4db4"
      },
      "source": [
        "df.columns"
      ],
      "execution_count": 200,
      "outputs": [
        {
          "output_type": "execute_result",
          "data": {
            "text/plain": [
              "Index(['Unnamed: 0', 'districtText', 'furnishingCode', 'value', 'floorArea',\n",
              "       'bedrooms', 'bathrooms', 'pricePerSqFt', 'hasFloorplans', 'latitude',\n",
              "       'longitude'],\n",
              "      dtype='object')"
            ]
          },
          "metadata": {
            "tags": []
          },
          "execution_count": 200
        }
      ]
    },
    {
      "cell_type": "code",
      "metadata": {
        "id": "OOyXm3wcW6u4",
        "colab_type": "code",
        "colab": {}
      },
      "source": [
        "# checking missing values\n",
        "\n",
        "def value_checher(X):\n",
        "\n",
        "  col_to_check = ['floorArea','bedrooms', 'bathrooms',\n",
        "                  'pricePerSqFt', 'hasFloorplans',\n",
        "                  'latitude','longitude']\n",
        "  \n",
        "  for col in col_to_check:\n",
        "    print(f'{X[col]} \\n is missing this {X[col].isnull().value_counts()} \\n')\n",
        "\n",
        "  return X"
      ],
      "execution_count": 0,
      "outputs": []
    },
    {
      "cell_type": "code",
      "metadata": {
        "id": "ps4uBFzaXOXh",
        "colab_type": "code",
        "colab": {
          "base_uri": "https://localhost:8080/",
          "height": 1000
        },
        "outputId": "63e224ce-f60b-4f73-c53c-eac2760f6821"
      },
      "source": [
        "value_checher(df)"
      ],
      "execution_count": 202,
      "outputs": [
        {
          "output_type": "stream",
          "text": [
            "0         990\n",
            "1        1022\n",
            "2        1259\n",
            "3         699\n",
            "4        1184\n",
            "         ... \n",
            "24559    1119\n",
            "24560    1593\n",
            "24561    1388\n",
            "24562     990\n",
            "24563     990\n",
            "Name: floorArea, Length: 24564, dtype: object \n",
            " is missing this False    24564\n",
            "Name: floorArea, dtype: int64 \n",
            "\n",
            "0        3\n",
            "1        3\n",
            "2        3\n",
            "3        3\n",
            "4        3\n",
            "        ..\n",
            "24559    3\n",
            "24560    4\n",
            "24561    3\n",
            "24562    3\n",
            "24563    3\n",
            "Name: bedrooms, Length: 24564, dtype: int64 \n",
            " is missing this False    24564\n",
            "Name: bedrooms, dtype: int64 \n",
            "\n",
            "0              2\n",
            "1              2\n",
            "2              2\n",
            "3              2\n",
            "4              2\n",
            "          ...   \n",
            "24559    UNKNOWN\n",
            "24560    UNKNOWN\n",
            "24561    UNKNOWN\n",
            "24562          2\n",
            "24563          2\n",
            "Name: bathrooms, Length: 24564, dtype: object \n",
            " is missing this False    24564\n",
            "Name: bathrooms, dtype: int64 \n",
            "\n",
            "0        462.6262626\n",
            "1        758.3170254\n",
            "2        694.9960286\n",
            "3        400.5722461\n",
            "4        346.2837838\n",
            "            ...     \n",
            "24559    446.8275246\n",
            "24560    351.5379787\n",
            "24561     288.184438\n",
            "24562    535.3535354\n",
            "24563    353.5353535\n",
            "Name: pricePerSqFt, Length: 24564, dtype: object \n",
            " is missing this False    24564\n",
            "Name: pricePerSqFt, dtype: int64 \n",
            "\n",
            "0         True\n",
            "1        False\n",
            "2         True\n",
            "3        False\n",
            "4         True\n",
            "         ...  \n",
            "24559    False\n",
            "24560    False\n",
            "24561    False\n",
            "24562    False\n",
            "24563    False\n",
            "Name: hasFloorplans, Length: 24564, dtype: bool \n",
            " is missing this False    24564\n",
            "Name: hasFloorplans, dtype: int64 \n",
            "\n",
            "0           1.402608\n",
            "1           1.306192\n",
            "2        1.371803482\n",
            "3        1.442670315\n",
            "4        1.393140738\n",
            "            ...     \n",
            "24559    1.383069072\n",
            "24560    1.392803442\n",
            "24561    1.393122893\n",
            "24562    1.385332889\n",
            "24563    1.433992301\n",
            "Name: latitude, Length: 24564, dtype: object \n",
            " is missing this False    24564\n",
            "Name: latitude, dtype: int64 \n",
            "\n",
            "0         103.911427\n",
            "1         103.782499\n",
            "2        103.8535492\n",
            "3        103.7778019\n",
            "4        103.8883531\n",
            "            ...     \n",
            "24559    103.7437925\n",
            "24560    103.7413797\n",
            "24561    103.7442056\n",
            "24562    103.8938411\n",
            "24563     103.795489\n",
            "Name: longitude, Length: 24564, dtype: object \n",
            " is missing this False    24564\n",
            "Name: longitude, dtype: int64 \n",
            "\n"
          ],
          "name": "stdout"
        },
        {
          "output_type": "execute_result",
          "data": {
            "text/html": [
              "<div>\n",
              "<style scoped>\n",
              "    .dataframe tbody tr th:only-of-type {\n",
              "        vertical-align: middle;\n",
              "    }\n",
              "\n",
              "    .dataframe tbody tr th {\n",
              "        vertical-align: top;\n",
              "    }\n",
              "\n",
              "    .dataframe thead th {\n",
              "        text-align: right;\n",
              "    }\n",
              "</style>\n",
              "<table border=\"1\" class=\"dataframe\">\n",
              "  <thead>\n",
              "    <tr style=\"text-align: right;\">\n",
              "      <th></th>\n",
              "      <th>Unnamed: 0</th>\n",
              "      <th>districtText</th>\n",
              "      <th>furnishingCode</th>\n",
              "      <th>value</th>\n",
              "      <th>floorArea</th>\n",
              "      <th>bedrooms</th>\n",
              "      <th>bathrooms</th>\n",
              "      <th>pricePerSqFt</th>\n",
              "      <th>hasFloorplans</th>\n",
              "      <th>latitude</th>\n",
              "      <th>longitude</th>\n",
              "    </tr>\n",
              "  </thead>\n",
              "  <tbody>\n",
              "    <tr>\n",
              "      <th>0</th>\n",
              "      <td>0</td>\n",
              "      <td>Hougang  /  Punggol  /  Sengkang</td>\n",
              "      <td>FULL</td>\n",
              "      <td>458000</td>\n",
              "      <td>990</td>\n",
              "      <td>3</td>\n",
              "      <td>2</td>\n",
              "      <td>462.6262626</td>\n",
              "      <td>True</td>\n",
              "      <td>1.402608</td>\n",
              "      <td>103.911427</td>\n",
              "    </tr>\n",
              "    <tr>\n",
              "      <th>1</th>\n",
              "      <td>1</td>\n",
              "      <td>Buona  Vista  /  West  Coast  /  Clementi  Ne...</td>\n",
              "      <td>FULL</td>\n",
              "      <td>775000</td>\n",
              "      <td>1022</td>\n",
              "      <td>3</td>\n",
              "      <td>2</td>\n",
              "      <td>758.3170254</td>\n",
              "      <td>False</td>\n",
              "      <td>1.306192</td>\n",
              "      <td>103.782499</td>\n",
              "    </tr>\n",
              "    <tr>\n",
              "      <th>2</th>\n",
              "      <td>2</td>\n",
              "      <td>Ang  Mo  Kio  /  Bishan  /  Thomson</td>\n",
              "      <td>UNFUR</td>\n",
              "      <td>875000</td>\n",
              "      <td>1259</td>\n",
              "      <td>3</td>\n",
              "      <td>2</td>\n",
              "      <td>694.9960286</td>\n",
              "      <td>True</td>\n",
              "      <td>1.371803482</td>\n",
              "      <td>103.8535492</td>\n",
              "    </tr>\n",
              "    <tr>\n",
              "      <th>3</th>\n",
              "      <td>3</td>\n",
              "      <td>Admiralty  /  Woodlands</td>\n",
              "      <td>UNKNOWN</td>\n",
              "      <td>280000</td>\n",
              "      <td>699</td>\n",
              "      <td>3</td>\n",
              "      <td>2</td>\n",
              "      <td>400.5722461</td>\n",
              "      <td>False</td>\n",
              "      <td>1.442670315</td>\n",
              "      <td>103.7778019</td>\n",
              "    </tr>\n",
              "    <tr>\n",
              "      <th>4</th>\n",
              "      <td>4</td>\n",
              "      <td>Hougang  /  Punggol  /  Sengkang</td>\n",
              "      <td>PART</td>\n",
              "      <td>410000</td>\n",
              "      <td>1184</td>\n",
              "      <td>3</td>\n",
              "      <td>2</td>\n",
              "      <td>346.2837838</td>\n",
              "      <td>True</td>\n",
              "      <td>1.393140738</td>\n",
              "      <td>103.8883531</td>\n",
              "    </tr>\n",
              "    <tr>\n",
              "      <th>...</th>\n",
              "      <td>...</td>\n",
              "      <td>...</td>\n",
              "      <td>...</td>\n",
              "      <td>...</td>\n",
              "      <td>...</td>\n",
              "      <td>...</td>\n",
              "      <td>...</td>\n",
              "      <td>...</td>\n",
              "      <td>...</td>\n",
              "      <td>...</td>\n",
              "      <td>...</td>\n",
              "    </tr>\n",
              "    <tr>\n",
              "      <th>24559</th>\n",
              "      <td>25093</td>\n",
              "      <td>Dairy  Farm  /  Bukit  Panjang  /  Choa  Chu ...</td>\n",
              "      <td>UNKNOWN</td>\n",
              "      <td>500000</td>\n",
              "      <td>1119</td>\n",
              "      <td>3</td>\n",
              "      <td>UNKNOWN</td>\n",
              "      <td>446.8275246</td>\n",
              "      <td>False</td>\n",
              "      <td>1.383069072</td>\n",
              "      <td>103.7437925</td>\n",
              "    </tr>\n",
              "    <tr>\n",
              "      <th>24560</th>\n",
              "      <td>25094</td>\n",
              "      <td>Dairy  Farm  /  Bukit  Panjang  /  Choa  Chu ...</td>\n",
              "      <td>UNKNOWN</td>\n",
              "      <td>560000</td>\n",
              "      <td>1593</td>\n",
              "      <td>4</td>\n",
              "      <td>UNKNOWN</td>\n",
              "      <td>351.5379787</td>\n",
              "      <td>False</td>\n",
              "      <td>1.392803442</td>\n",
              "      <td>103.7413797</td>\n",
              "    </tr>\n",
              "    <tr>\n",
              "      <th>24561</th>\n",
              "      <td>25095</td>\n",
              "      <td>Dairy  Farm  /  Bukit  Panjang  /  Choa  Chu ...</td>\n",
              "      <td>UNKNOWN</td>\n",
              "      <td>400000</td>\n",
              "      <td>1388</td>\n",
              "      <td>3</td>\n",
              "      <td>UNKNOWN</td>\n",
              "      <td>288.184438</td>\n",
              "      <td>False</td>\n",
              "      <td>1.393122893</td>\n",
              "      <td>103.7442056</td>\n",
              "    </tr>\n",
              "    <tr>\n",
              "      <th>24562</th>\n",
              "      <td>25096</td>\n",
              "      <td>Hougang  /  Punggol  /  Sengkang</td>\n",
              "      <td>PART</td>\n",
              "      <td>530000</td>\n",
              "      <td>990</td>\n",
              "      <td>3</td>\n",
              "      <td>2</td>\n",
              "      <td>535.3535354</td>\n",
              "      <td>False</td>\n",
              "      <td>1.385332889</td>\n",
              "      <td>103.8938411</td>\n",
              "    </tr>\n",
              "    <tr>\n",
              "      <th>24563</th>\n",
              "      <td>25097</td>\n",
              "      <td>Admiralty  /  Woodlands</td>\n",
              "      <td>FULL</td>\n",
              "      <td>350000</td>\n",
              "      <td>990</td>\n",
              "      <td>3</td>\n",
              "      <td>2</td>\n",
              "      <td>353.5353535</td>\n",
              "      <td>False</td>\n",
              "      <td>1.433992301</td>\n",
              "      <td>103.795489</td>\n",
              "    </tr>\n",
              "  </tbody>\n",
              "</table>\n",
              "<p>24564 rows × 11 columns</p>\n",
              "</div>"
            ],
            "text/plain": [
              "       Unnamed: 0  ...    longitude\n",
              "0               0  ...   103.911427\n",
              "1               1  ...   103.782499\n",
              "2               2  ...  103.8535492\n",
              "3               3  ...  103.7778019\n",
              "4               4  ...  103.8883531\n",
              "...           ...  ...          ...\n",
              "24559       25093  ...  103.7437925\n",
              "24560       25094  ...  103.7413797\n",
              "24561       25095  ...  103.7442056\n",
              "24562       25096  ...  103.8938411\n",
              "24563       25097  ...   103.795489\n",
              "\n",
              "[24564 rows x 11 columns]"
            ]
          },
          "metadata": {
            "tags": []
          },
          "execution_count": 202
        }
      ]
    },
    {
      "cell_type": "code",
      "metadata": {
        "id": "zwU3J0pta9jg",
        "colab_type": "code",
        "colab": {}
      },
      "source": [
        "cardinalilty = ['DistrictText']"
      ],
      "execution_count": 0,
      "outputs": []
    },
    {
      "cell_type": "code",
      "metadata": {
        "id": "ok8Fl6HaYtIH",
        "colab_type": "code",
        "colab": {}
      },
      "source": [
        "train = df"
      ],
      "execution_count": 0,
      "outputs": []
    },
    {
      "cell_type": "code",
      "metadata": {
        "colab_type": "code",
        "id": "v19nNHXEoMkW",
        "colab": {}
      },
      "source": [
        "target = 'value'\n",
        "\n",
        "features = train.columns.drop([target, 'districtText', 'hasFloorplans', 'Unnamed: 0'])"
      ],
      "execution_count": 0,
      "outputs": []
    },
    {
      "cell_type": "code",
      "metadata": {
        "id": "JswHQsGjoxhB",
        "colab_type": "code",
        "colab": {
          "base_uri": "https://localhost:8080/",
          "height": 417
        },
        "outputId": "2dd2cc6d-3dca-41ef-8889-1277b26e7842"
      },
      "source": [
        "train"
      ],
      "execution_count": 206,
      "outputs": [
        {
          "output_type": "execute_result",
          "data": {
            "text/html": [
              "<div>\n",
              "<style scoped>\n",
              "    .dataframe tbody tr th:only-of-type {\n",
              "        vertical-align: middle;\n",
              "    }\n",
              "\n",
              "    .dataframe tbody tr th {\n",
              "        vertical-align: top;\n",
              "    }\n",
              "\n",
              "    .dataframe thead th {\n",
              "        text-align: right;\n",
              "    }\n",
              "</style>\n",
              "<table border=\"1\" class=\"dataframe\">\n",
              "  <thead>\n",
              "    <tr style=\"text-align: right;\">\n",
              "      <th></th>\n",
              "      <th>Unnamed: 0</th>\n",
              "      <th>districtText</th>\n",
              "      <th>furnishingCode</th>\n",
              "      <th>value</th>\n",
              "      <th>floorArea</th>\n",
              "      <th>bedrooms</th>\n",
              "      <th>bathrooms</th>\n",
              "      <th>pricePerSqFt</th>\n",
              "      <th>hasFloorplans</th>\n",
              "      <th>latitude</th>\n",
              "      <th>longitude</th>\n",
              "    </tr>\n",
              "  </thead>\n",
              "  <tbody>\n",
              "    <tr>\n",
              "      <th>0</th>\n",
              "      <td>0</td>\n",
              "      <td>Hougang  /  Punggol  /  Sengkang</td>\n",
              "      <td>FULL</td>\n",
              "      <td>458000</td>\n",
              "      <td>990</td>\n",
              "      <td>3</td>\n",
              "      <td>2</td>\n",
              "      <td>462.6262626</td>\n",
              "      <td>True</td>\n",
              "      <td>1.402608</td>\n",
              "      <td>103.911427</td>\n",
              "    </tr>\n",
              "    <tr>\n",
              "      <th>1</th>\n",
              "      <td>1</td>\n",
              "      <td>Buona  Vista  /  West  Coast  /  Clementi  Ne...</td>\n",
              "      <td>FULL</td>\n",
              "      <td>775000</td>\n",
              "      <td>1022</td>\n",
              "      <td>3</td>\n",
              "      <td>2</td>\n",
              "      <td>758.3170254</td>\n",
              "      <td>False</td>\n",
              "      <td>1.306192</td>\n",
              "      <td>103.782499</td>\n",
              "    </tr>\n",
              "    <tr>\n",
              "      <th>2</th>\n",
              "      <td>2</td>\n",
              "      <td>Ang  Mo  Kio  /  Bishan  /  Thomson</td>\n",
              "      <td>UNFUR</td>\n",
              "      <td>875000</td>\n",
              "      <td>1259</td>\n",
              "      <td>3</td>\n",
              "      <td>2</td>\n",
              "      <td>694.9960286</td>\n",
              "      <td>True</td>\n",
              "      <td>1.371803482</td>\n",
              "      <td>103.8535492</td>\n",
              "    </tr>\n",
              "    <tr>\n",
              "      <th>3</th>\n",
              "      <td>3</td>\n",
              "      <td>Admiralty  /  Woodlands</td>\n",
              "      <td>UNKNOWN</td>\n",
              "      <td>280000</td>\n",
              "      <td>699</td>\n",
              "      <td>3</td>\n",
              "      <td>2</td>\n",
              "      <td>400.5722461</td>\n",
              "      <td>False</td>\n",
              "      <td>1.442670315</td>\n",
              "      <td>103.7778019</td>\n",
              "    </tr>\n",
              "    <tr>\n",
              "      <th>4</th>\n",
              "      <td>4</td>\n",
              "      <td>Hougang  /  Punggol  /  Sengkang</td>\n",
              "      <td>PART</td>\n",
              "      <td>410000</td>\n",
              "      <td>1184</td>\n",
              "      <td>3</td>\n",
              "      <td>2</td>\n",
              "      <td>346.2837838</td>\n",
              "      <td>True</td>\n",
              "      <td>1.393140738</td>\n",
              "      <td>103.8883531</td>\n",
              "    </tr>\n",
              "    <tr>\n",
              "      <th>...</th>\n",
              "      <td>...</td>\n",
              "      <td>...</td>\n",
              "      <td>...</td>\n",
              "      <td>...</td>\n",
              "      <td>...</td>\n",
              "      <td>...</td>\n",
              "      <td>...</td>\n",
              "      <td>...</td>\n",
              "      <td>...</td>\n",
              "      <td>...</td>\n",
              "      <td>...</td>\n",
              "    </tr>\n",
              "    <tr>\n",
              "      <th>24559</th>\n",
              "      <td>25093</td>\n",
              "      <td>Dairy  Farm  /  Bukit  Panjang  /  Choa  Chu ...</td>\n",
              "      <td>UNKNOWN</td>\n",
              "      <td>500000</td>\n",
              "      <td>1119</td>\n",
              "      <td>3</td>\n",
              "      <td>UNKNOWN</td>\n",
              "      <td>446.8275246</td>\n",
              "      <td>False</td>\n",
              "      <td>1.383069072</td>\n",
              "      <td>103.7437925</td>\n",
              "    </tr>\n",
              "    <tr>\n",
              "      <th>24560</th>\n",
              "      <td>25094</td>\n",
              "      <td>Dairy  Farm  /  Bukit  Panjang  /  Choa  Chu ...</td>\n",
              "      <td>UNKNOWN</td>\n",
              "      <td>560000</td>\n",
              "      <td>1593</td>\n",
              "      <td>4</td>\n",
              "      <td>UNKNOWN</td>\n",
              "      <td>351.5379787</td>\n",
              "      <td>False</td>\n",
              "      <td>1.392803442</td>\n",
              "      <td>103.7413797</td>\n",
              "    </tr>\n",
              "    <tr>\n",
              "      <th>24561</th>\n",
              "      <td>25095</td>\n",
              "      <td>Dairy  Farm  /  Bukit  Panjang  /  Choa  Chu ...</td>\n",
              "      <td>UNKNOWN</td>\n",
              "      <td>400000</td>\n",
              "      <td>1388</td>\n",
              "      <td>3</td>\n",
              "      <td>UNKNOWN</td>\n",
              "      <td>288.184438</td>\n",
              "      <td>False</td>\n",
              "      <td>1.393122893</td>\n",
              "      <td>103.7442056</td>\n",
              "    </tr>\n",
              "    <tr>\n",
              "      <th>24562</th>\n",
              "      <td>25096</td>\n",
              "      <td>Hougang  /  Punggol  /  Sengkang</td>\n",
              "      <td>PART</td>\n",
              "      <td>530000</td>\n",
              "      <td>990</td>\n",
              "      <td>3</td>\n",
              "      <td>2</td>\n",
              "      <td>535.3535354</td>\n",
              "      <td>False</td>\n",
              "      <td>1.385332889</td>\n",
              "      <td>103.8938411</td>\n",
              "    </tr>\n",
              "    <tr>\n",
              "      <th>24563</th>\n",
              "      <td>25097</td>\n",
              "      <td>Admiralty  /  Woodlands</td>\n",
              "      <td>FULL</td>\n",
              "      <td>350000</td>\n",
              "      <td>990</td>\n",
              "      <td>3</td>\n",
              "      <td>2</td>\n",
              "      <td>353.5353535</td>\n",
              "      <td>False</td>\n",
              "      <td>1.433992301</td>\n",
              "      <td>103.795489</td>\n",
              "    </tr>\n",
              "  </tbody>\n",
              "</table>\n",
              "<p>24564 rows × 11 columns</p>\n",
              "</div>"
            ],
            "text/plain": [
              "       Unnamed: 0  ...    longitude\n",
              "0               0  ...   103.911427\n",
              "1               1  ...   103.782499\n",
              "2               2  ...  103.8535492\n",
              "3               3  ...  103.7778019\n",
              "4               4  ...  103.8883531\n",
              "...           ...  ...          ...\n",
              "24559       25093  ...  103.7437925\n",
              "24560       25094  ...  103.7413797\n",
              "24561       25095  ...  103.7442056\n",
              "24562       25096  ...  103.8938411\n",
              "24563       25097  ...   103.795489\n",
              "\n",
              "[24564 rows x 11 columns]"
            ]
          },
          "metadata": {
            "tags": []
          },
          "execution_count": 206
        }
      ]
    },
    {
      "cell_type": "code",
      "metadata": {
        "id": "h1-C6GvXoy6M",
        "colab_type": "code",
        "colab": {}
      },
      "source": [
        "train, test = train_test_split(train,\n",
        "                               train_size=0.80,\n",
        "                               test_size=0.20,\n",
        "                               stratify=train['furnishingCode'],\n",
        "                               random_state=42)"
      ],
      "execution_count": 0,
      "outputs": []
    },
    {
      "cell_type": "code",
      "metadata": {
        "id": "NCEaW3J6qV-A",
        "colab_type": "code",
        "colab": {
          "base_uri": "https://localhost:8080/",
          "height": 34
        },
        "outputId": "eedee21f-566d-471f-d427-74683763106e"
      },
      "source": [
        "train.shape, test.shape"
      ],
      "execution_count": 208,
      "outputs": [
        {
          "output_type": "execute_result",
          "data": {
            "text/plain": [
              "((19651, 11), (4913, 11))"
            ]
          },
          "metadata": {
            "tags": []
          },
          "execution_count": 208
        }
      ]
    },
    {
      "cell_type": "code",
      "metadata": {
        "id": "xpGM9wBQqfmJ",
        "colab_type": "code",
        "colab": {}
      },
      "source": [
        "train, val = train_test_split(train,\n",
        "                              train_size=0.80,\n",
        "                              test_size=0.20,\n",
        "                              stratify=train['furnishingCode'],\n",
        "                              random_state=43)"
      ],
      "execution_count": 0,
      "outputs": []
    },
    {
      "cell_type": "code",
      "metadata": {
        "id": "P4-5aLEwq9ca",
        "colab_type": "code",
        "colab": {
          "base_uri": "https://localhost:8080/",
          "height": 34
        },
        "outputId": "71a373b5-c45d-477d-bfda-1f320f8b88ef"
      },
      "source": [
        "train.shape, val.shape, test.shape "
      ],
      "execution_count": 210,
      "outputs": [
        {
          "output_type": "execute_result",
          "data": {
            "text/plain": [
              "((15720, 11), (3931, 11), (4913, 11))"
            ]
          },
          "metadata": {
            "tags": []
          },
          "execution_count": 210
        }
      ]
    },
    {
      "cell_type": "code",
      "metadata": {
        "id": "8Po7XXq5rFO-",
        "colab_type": "code",
        "colab": {}
      },
      "source": [
        "X_train = train[features]\n",
        "y_train = train[target]\n",
        "X_val = val[features]\n",
        "y_val = val[target]\n",
        "X_test = test[features]\n",
        "y_test = test[target]"
      ],
      "execution_count": 0,
      "outputs": []
    },
    {
      "cell_type": "code",
      "metadata": {
        "id": "OaIZvMCGsPe7",
        "colab_type": "code",
        "colab": {
          "base_uri": "https://localhost:8080/",
          "height": 34
        },
        "outputId": "c9f16db9-fa15-4436-b671-d5f45792c690"
      },
      "source": [
        "X_train.shape, X_val.shape, X_test.shape"
      ],
      "execution_count": 212,
      "outputs": [
        {
          "output_type": "execute_result",
          "data": {
            "text/plain": [
              "((15720, 7), (3931, 7), (4913, 7))"
            ]
          },
          "metadata": {
            "tags": []
          },
          "execution_count": 212
        }
      ]
    },
    {
      "cell_type": "code",
      "metadata": {
        "id": "fOuZgGcvsWq3",
        "colab_type": "code",
        "colab": {}
      },
      "source": [
        "pipeline = make_pipeline(\n",
        "    # ce.OneHotEncoder(use_cat_names=True),\n",
        "    ce.OrdinalEncoder('furnishingCode'),\n",
        "    SimpleImputer(strategy='most_frequent'),\n",
        "    RandomForestRegressor(random_state=99, n_jobs=-1)\n",
        "    )"
      ],
      "execution_count": 0,
      "outputs": []
    },
    {
      "cell_type": "code",
      "metadata": {
        "id": "yGy6uwT_taW7",
        "colab_type": "code",
        "colab": {
          "base_uri": "https://localhost:8080/",
          "height": 527
        },
        "outputId": "6feb1174-c08e-40b7-d4a7-ce1bbc7edbb8"
      },
      "source": [
        "pipeline.fit(X_train, y_train)"
      ],
      "execution_count": 224,
      "outputs": [
        {
          "output_type": "execute_result",
          "data": {
            "text/plain": [
              "Pipeline(memory=None,\n",
              "         steps=[('ordinalencoder',\n",
              "                 OrdinalEncoder(cols=['furnishingCode', 'floorArea',\n",
              "                                      'bathrooms', 'pricePerSqFt', 'latitude',\n",
              "                                      'longitude'],\n",
              "                                drop_invariant=False, handle_missing='value',\n",
              "                                handle_unknown='value',\n",
              "                                mapping=[{'col': 'furnishingCode',\n",
              "                                          'data_type': dtype('O'),\n",
              "                                          'mapping': FULL       1\n",
              "UNKNOWN    2\n",
              "PART       3\n",
              "UNFUR      4\n",
              "NaN       -2\n",
              "dtype: int64},\n",
              "                                         {'col': 'floorArea',\n",
              "                                          'data_typ...\n",
              "                 RandomForestRegressor(bootstrap=True, ccp_alpha=0.0,\n",
              "                                       criterion='mse', max_depth=None,\n",
              "                                       max_features='auto', max_leaf_nodes=None,\n",
              "                                       max_samples=None,\n",
              "                                       min_impurity_decrease=0.0,\n",
              "                                       min_impurity_split=None,\n",
              "                                       min_samples_leaf=1, min_samples_split=2,\n",
              "                                       min_weight_fraction_leaf=0.0,\n",
              "                                       n_estimators=100, n_jobs=-1,\n",
              "                                       oob_score=False, random_state=99,\n",
              "                                       verbose=0, warm_start=False))],\n",
              "         verbose=False)"
            ]
          },
          "metadata": {
            "tags": []
          },
          "execution_count": 224
        }
      ]
    },
    {
      "cell_type": "code",
      "metadata": {
        "id": "tExH2OMLxttG",
        "colab_type": "code",
        "colab": {
          "base_uri": "https://localhost:8080/",
          "height": 34
        },
        "outputId": "a5bfbd53-533e-4d5d-b854-ef0ad2a1fcd5"
      },
      "source": [
        "pipeline.score(X_val, y_val)"
      ],
      "execution_count": 225,
      "outputs": [
        {
          "output_type": "execute_result",
          "data": {
            "text/plain": [
              "0.5057057857030889"
            ]
          },
          "metadata": {
            "tags": []
          },
          "execution_count": 225
        }
      ]
    },
    {
      "cell_type": "code",
      "metadata": {
        "id": "ABgpt_YGyBZN",
        "colab_type": "code",
        "colab": {}
      },
      "source": [
        ""
      ],
      "execution_count": 0,
      "outputs": []
    }
  ]
}